{
 "cells": [
  {
   "cell_type": "code",
   "execution_count": 6,
   "id": "7cb7fce7",
   "metadata": {},
   "outputs": [],
   "source": [
    "import optuna"
   ]
  },
  {
   "cell_type": "code",
   "execution_count": 12,
   "id": "8853b355",
   "metadata": {},
   "outputs": [
    {
     "name": "stderr",
     "output_type": "stream",
     "text": [
      "[I 2023-07-23 14:02:25,615] Using an existing study with name 'tct_loss_tuning' instead of creating a new one.\n"
     ]
    }
   ],
   "source": [
    "study = optuna.create_study(direction=\"maximize\", study_name='tct_loss_tuning', storage='sqlite:///example.db', load_if_exists=True)"
   ]
  },
  {
   "cell_type": "code",
   "execution_count": 16,
   "id": "ca758341",
   "metadata": {},
   "outputs": [
    {
     "data": {
      "text/plain": [
       "{'blocks_dropout': 3,\n",
       " 'dimension': 7,\n",
       " 'flip_lr_probability': 5,\n",
       " 'freeze_probability': 1,\n",
       " 'kernel_size': 12,\n",
       " 'lr': 0.003370400500342758,\n",
       " 'lr_min': 1.2417933819232701e-05,\n",
       " 'num_feature_blocks': 5,\n",
       " 'random_affine_probability': 2,\n",
       " 'weight_decay': 0.00038476304486437685}"
      ]
     },
     "execution_count": 16,
     "metadata": {},
     "output_type": "execute_result"
    }
   ],
   "source": [
    "study.best_params"
   ]
  },
  {
   "cell_type": "code",
   "execution_count": 14,
   "id": "43f148f2",
   "metadata": {},
   "outputs": [
    {
     "data": {
      "text/html": [
       "<div>\n",
       "<style scoped>\n",
       "    .dataframe tbody tr th:only-of-type {\n",
       "        vertical-align: middle;\n",
       "    }\n",
       "\n",
       "    .dataframe tbody tr th {\n",
       "        vertical-align: top;\n",
       "    }\n",
       "\n",
       "    .dataframe thead th {\n",
       "        text-align: right;\n",
       "    }\n",
       "</style>\n",
       "<table border=\"1\" class=\"dataframe\">\n",
       "  <thead>\n",
       "    <tr style=\"text-align: right;\">\n",
       "      <th></th>\n",
       "      <th>number</th>\n",
       "      <th>value</th>\n",
       "      <th>datetime_start</th>\n",
       "      <th>datetime_complete</th>\n",
       "      <th>duration</th>\n",
       "      <th>params_blocks_dropout</th>\n",
       "      <th>params_dimension</th>\n",
       "      <th>params_flip_lr_probability</th>\n",
       "      <th>params_freeze_probability</th>\n",
       "      <th>params_kernel_size</th>\n",
       "      <th>params_lr</th>\n",
       "      <th>params_lr_min</th>\n",
       "      <th>params_num_feature_blocks</th>\n",
       "      <th>params_random_affine_probability</th>\n",
       "      <th>params_weight_decay</th>\n",
       "      <th>state</th>\n",
       "    </tr>\n",
       "  </thead>\n",
       "  <tbody>\n",
       "    <tr>\n",
       "      <th>2</th>\n",
       "      <td>2</td>\n",
       "      <td>0.496249</td>\n",
       "      <td>2023-07-13 05:00:28.844324</td>\n",
       "      <td>2023-07-13 06:59:14.599389</td>\n",
       "      <td>0 days 01:58:45.755065</td>\n",
       "      <td>3</td>\n",
       "      <td>7</td>\n",
       "      <td>5</td>\n",
       "      <td>1</td>\n",
       "      <td>12</td>\n",
       "      <td>0.003370</td>\n",
       "      <td>1.241793e-05</td>\n",
       "      <td>5</td>\n",
       "      <td>2</td>\n",
       "      <td>0.000385</td>\n",
       "      <td>COMPLETE</td>\n",
       "    </tr>\n",
       "    <tr>\n",
       "      <th>45</th>\n",
       "      <td>45</td>\n",
       "      <td>0.477414</td>\n",
       "      <td>2023-07-13 20:35:49.196599</td>\n",
       "      <td>2023-07-13 22:27:16.669387</td>\n",
       "      <td>0 days 01:51:27.472788</td>\n",
       "      <td>3</td>\n",
       "      <td>7</td>\n",
       "      <td>6</td>\n",
       "      <td>3</td>\n",
       "      <td>5</td>\n",
       "      <td>0.001340</td>\n",
       "      <td>3.001675e-05</td>\n",
       "      <td>4</td>\n",
       "      <td>0</td>\n",
       "      <td>0.002163</td>\n",
       "      <td>COMPLETE</td>\n",
       "    </tr>\n",
       "    <tr>\n",
       "      <th>49</th>\n",
       "      <td>49</td>\n",
       "      <td>0.473688</td>\n",
       "      <td>2023-07-13 22:27:42.138867</td>\n",
       "      <td>2023-07-14 00:14:10.852831</td>\n",
       "      <td>0 days 01:46:28.713964</td>\n",
       "      <td>2</td>\n",
       "      <td>7</td>\n",
       "      <td>6</td>\n",
       "      <td>0</td>\n",
       "      <td>8</td>\n",
       "      <td>0.001958</td>\n",
       "      <td>2.865734e-05</td>\n",
       "      <td>4</td>\n",
       "      <td>0</td>\n",
       "      <td>0.003948</td>\n",
       "      <td>COMPLETE</td>\n",
       "    </tr>\n",
       "    <tr>\n",
       "      <th>117</th>\n",
       "      <td>117</td>\n",
       "      <td>0.467988</td>\n",
       "      <td>2023-07-14 15:35:32.033650</td>\n",
       "      <td>2023-07-14 18:12:38.834794</td>\n",
       "      <td>0 days 02:37:06.801144</td>\n",
       "      <td>1</td>\n",
       "      <td>7</td>\n",
       "      <td>4</td>\n",
       "      <td>1</td>\n",
       "      <td>7</td>\n",
       "      <td>0.001663</td>\n",
       "      <td>4.516401e-05</td>\n",
       "      <td>9</td>\n",
       "      <td>7</td>\n",
       "      <td>0.003691</td>\n",
       "      <td>COMPLETE</td>\n",
       "    </tr>\n",
       "    <tr>\n",
       "      <th>14</th>\n",
       "      <td>14</td>\n",
       "      <td>0.459849</td>\n",
       "      <td>2023-07-13 09:34:14.107649</td>\n",
       "      <td>2023-07-13 11:24:28.464906</td>\n",
       "      <td>0 days 01:50:14.357257</td>\n",
       "      <td>3</td>\n",
       "      <td>7</td>\n",
       "      <td>5</td>\n",
       "      <td>3</td>\n",
       "      <td>5</td>\n",
       "      <td>0.002151</td>\n",
       "      <td>6.674148e-06</td>\n",
       "      <td>4</td>\n",
       "      <td>0</td>\n",
       "      <td>0.008838</td>\n",
       "      <td>COMPLETE</td>\n",
       "    </tr>\n",
       "    <tr>\n",
       "      <th>...</th>\n",
       "      <td>...</td>\n",
       "      <td>...</td>\n",
       "      <td>...</td>\n",
       "      <td>...</td>\n",
       "      <td>...</td>\n",
       "      <td>...</td>\n",
       "      <td>...</td>\n",
       "      <td>...</td>\n",
       "      <td>...</td>\n",
       "      <td>...</td>\n",
       "      <td>...</td>\n",
       "      <td>...</td>\n",
       "      <td>...</td>\n",
       "      <td>...</td>\n",
       "      <td>...</td>\n",
       "      <td>...</td>\n",
       "    </tr>\n",
       "    <tr>\n",
       "      <th>152</th>\n",
       "      <td>152</td>\n",
       "      <td>NaN</td>\n",
       "      <td>2023-07-15 04:56:32.291333</td>\n",
       "      <td>2023-07-15 04:56:49.871324</td>\n",
       "      <td>0 days 00:00:17.579991</td>\n",
       "      <td>1</td>\n",
       "      <td>7</td>\n",
       "      <td>5</td>\n",
       "      <td>0</td>\n",
       "      <td>7</td>\n",
       "      <td>0.002099</td>\n",
       "      <td>5.659933e-05</td>\n",
       "      <td>5</td>\n",
       "      <td>1</td>\n",
       "      <td>0.003604</td>\n",
       "      <td>PRUNED</td>\n",
       "    </tr>\n",
       "    <tr>\n",
       "      <th>153</th>\n",
       "      <td>153</td>\n",
       "      <td>NaN</td>\n",
       "      <td>2023-07-15 04:56:49.885997</td>\n",
       "      <td>2023-07-15 04:57:03.560205</td>\n",
       "      <td>0 days 00:00:13.674208</td>\n",
       "      <td>3</td>\n",
       "      <td>7</td>\n",
       "      <td>4</td>\n",
       "      <td>1</td>\n",
       "      <td>6</td>\n",
       "      <td>0.001453</td>\n",
       "      <td>7.719635e-05</td>\n",
       "      <td>5</td>\n",
       "      <td>8</td>\n",
       "      <td>0.004484</td>\n",
       "      <td>PRUNED</td>\n",
       "    </tr>\n",
       "    <tr>\n",
       "      <th>154</th>\n",
       "      <td>154</td>\n",
       "      <td>NaN</td>\n",
       "      <td>2023-07-15 04:57:03.575463</td>\n",
       "      <td>2023-07-15 04:57:17.885925</td>\n",
       "      <td>0 days 00:00:14.310462</td>\n",
       "      <td>2</td>\n",
       "      <td>7</td>\n",
       "      <td>5</td>\n",
       "      <td>1</td>\n",
       "      <td>16</td>\n",
       "      <td>0.002362</td>\n",
       "      <td>1.753353e-05</td>\n",
       "      <td>5</td>\n",
       "      <td>2</td>\n",
       "      <td>0.006748</td>\n",
       "      <td>PRUNED</td>\n",
       "    </tr>\n",
       "    <tr>\n",
       "      <th>158</th>\n",
       "      <td>158</td>\n",
       "      <td>NaN</td>\n",
       "      <td>2023-07-15 09:47:56.775702</td>\n",
       "      <td>2023-07-15 11:05:58.658006</td>\n",
       "      <td>0 days 01:18:01.882304</td>\n",
       "      <td>1</td>\n",
       "      <td>8</td>\n",
       "      <td>3</td>\n",
       "      <td>2</td>\n",
       "      <td>5</td>\n",
       "      <td>0.000934</td>\n",
       "      <td>9.777667e-06</td>\n",
       "      <td>5</td>\n",
       "      <td>0</td>\n",
       "      <td>0.002820</td>\n",
       "      <td>FAIL</td>\n",
       "    </tr>\n",
       "    <tr>\n",
       "      <th>159</th>\n",
       "      <td>159</td>\n",
       "      <td>NaN</td>\n",
       "      <td>2023-07-15 10:12:51.802821</td>\n",
       "      <td>2023-07-15 10:52:37.386483</td>\n",
       "      <td>0 days 00:39:45.583662</td>\n",
       "      <td>1</td>\n",
       "      <td>8</td>\n",
       "      <td>4</td>\n",
       "      <td>3</td>\n",
       "      <td>5</td>\n",
       "      <td>0.000369</td>\n",
       "      <td>1.282509e-07</td>\n",
       "      <td>5</td>\n",
       "      <td>0</td>\n",
       "      <td>0.002438</td>\n",
       "      <td>FAIL</td>\n",
       "    </tr>\n",
       "  </tbody>\n",
       "</table>\n",
       "<p>160 rows × 16 columns</p>\n",
       "</div>"
      ],
      "text/plain": [
       "     number     value             datetime_start          datetime_complete  \\\n",
       "2         2  0.496249 2023-07-13 05:00:28.844324 2023-07-13 06:59:14.599389   \n",
       "45       45  0.477414 2023-07-13 20:35:49.196599 2023-07-13 22:27:16.669387   \n",
       "49       49  0.473688 2023-07-13 22:27:42.138867 2023-07-14 00:14:10.852831   \n",
       "117     117  0.467988 2023-07-14 15:35:32.033650 2023-07-14 18:12:38.834794   \n",
       "14       14  0.459849 2023-07-13 09:34:14.107649 2023-07-13 11:24:28.464906   \n",
       "..      ...       ...                        ...                        ...   \n",
       "152     152       NaN 2023-07-15 04:56:32.291333 2023-07-15 04:56:49.871324   \n",
       "153     153       NaN 2023-07-15 04:56:49.885997 2023-07-15 04:57:03.560205   \n",
       "154     154       NaN 2023-07-15 04:57:03.575463 2023-07-15 04:57:17.885925   \n",
       "158     158       NaN 2023-07-15 09:47:56.775702 2023-07-15 11:05:58.658006   \n",
       "159     159       NaN 2023-07-15 10:12:51.802821 2023-07-15 10:52:37.386483   \n",
       "\n",
       "                  duration  params_blocks_dropout  params_dimension  \\\n",
       "2   0 days 01:58:45.755065                      3                 7   \n",
       "45  0 days 01:51:27.472788                      3                 7   \n",
       "49  0 days 01:46:28.713964                      2                 7   \n",
       "117 0 days 02:37:06.801144                      1                 7   \n",
       "14  0 days 01:50:14.357257                      3                 7   \n",
       "..                     ...                    ...               ...   \n",
       "152 0 days 00:00:17.579991                      1                 7   \n",
       "153 0 days 00:00:13.674208                      3                 7   \n",
       "154 0 days 00:00:14.310462                      2                 7   \n",
       "158 0 days 01:18:01.882304                      1                 8   \n",
       "159 0 days 00:39:45.583662                      1                 8   \n",
       "\n",
       "     params_flip_lr_probability  params_freeze_probability  \\\n",
       "2                             5                          1   \n",
       "45                            6                          3   \n",
       "49                            6                          0   \n",
       "117                           4                          1   \n",
       "14                            5                          3   \n",
       "..                          ...                        ...   \n",
       "152                           5                          0   \n",
       "153                           4                          1   \n",
       "154                           5                          1   \n",
       "158                           3                          2   \n",
       "159                           4                          3   \n",
       "\n",
       "     params_kernel_size  params_lr  params_lr_min  params_num_feature_blocks  \\\n",
       "2                    12   0.003370   1.241793e-05                          5   \n",
       "45                    5   0.001340   3.001675e-05                          4   \n",
       "49                    8   0.001958   2.865734e-05                          4   \n",
       "117                   7   0.001663   4.516401e-05                          9   \n",
       "14                    5   0.002151   6.674148e-06                          4   \n",
       "..                  ...        ...            ...                        ...   \n",
       "152                   7   0.002099   5.659933e-05                          5   \n",
       "153                   6   0.001453   7.719635e-05                          5   \n",
       "154                  16   0.002362   1.753353e-05                          5   \n",
       "158                   5   0.000934   9.777667e-06                          5   \n",
       "159                   5   0.000369   1.282509e-07                          5   \n",
       "\n",
       "     params_random_affine_probability  params_weight_decay     state  \n",
       "2                                   2             0.000385  COMPLETE  \n",
       "45                                  0             0.002163  COMPLETE  \n",
       "49                                  0             0.003948  COMPLETE  \n",
       "117                                 7             0.003691  COMPLETE  \n",
       "14                                  0             0.008838  COMPLETE  \n",
       "..                                ...                  ...       ...  \n",
       "152                                 1             0.003604    PRUNED  \n",
       "153                                 8             0.004484    PRUNED  \n",
       "154                                 2             0.006748    PRUNED  \n",
       "158                                 0             0.002820      FAIL  \n",
       "159                                 0             0.002438      FAIL  \n",
       "\n",
       "[160 rows x 16 columns]"
      ]
     },
     "execution_count": 14,
     "metadata": {},
     "output_type": "execute_result"
    }
   ],
   "source": [
    "df = study.trials_dataframe()\n",
    "df.sort_values(\"value\",ascending=False)\n",
    "# df"
   ]
  },
  {
   "cell_type": "code",
   "execution_count": 6,
   "id": "cd36390e",
   "metadata": {},
   "outputs": [],
   "source": [
    "import plotly.express as px"
   ]
  },
  {
   "cell_type": "code",
   "execution_count": 9,
   "id": "d2d63963",
   "metadata": {},
   "outputs": [
    {
     "data": {
      "text/plain": [
       "Index(['number', 'value', 'datetime_start', 'datetime_complete', 'duration',\n",
       "       'params_blocks_dropout', 'params_decoder_blocks',\n",
       "       'params_decoder_mlp_dropout', 'params_dimension',\n",
       "       'params_final_dropout', 'params_flip_lr_probability',\n",
       "       'params_freeze_probability', 'params_kernel_size',\n",
       "       'params_label_smoothing', 'params_lr', 'params_num_feature_blocks',\n",
       "       'params_num_heads', 'params_predict_pad_token',\n",
       "       'params_random_affine_probability', 'params_tempmask_probability',\n",
       "       'params_weight_decay', 'state'],\n",
       "      dtype='object')"
      ]
     },
     "execution_count": 9,
     "metadata": {},
     "output_type": "execute_result"
    }
   ],
   "source": [
    "df.columns"
   ]
  },
  {
   "cell_type": "code",
   "execution_count": 14,
   "id": "f8e526d6",
   "metadata": {},
   "outputs": [
    {
     "data": {
      "application/vnd.plotly.v1+json": {
       "config": {
        "plotlyServerURL": "https://plot.ly"
       },
       "data": [
        {
         "hovertemplate": "params_label_smoothing=%{x}<br>value=%{y}<extra></extra>",
         "legendgroup": "",
         "marker": {
          "color": "#636efa",
          "symbol": "circle"
         },
         "mode": "markers",
         "name": "",
         "orientation": "v",
         "showlegend": false,
         "type": "scatter",
         "x": [
          0.016775299520835563,
          0.8685954727373462,
          0.2550035786346283,
          0.5937133593592175,
          0.5589895536524291,
          0.7775301189807589,
          0.9209720374913768,
          0.6326569433644911,
          0.2539937378152423,
          0.057227547046979715,
          0.2294147701871205,
          0.28554334272173976,
          0.016250404236747184,
          0.2479833194502359,
          0.26851939832107374,
          0.289037842138581,
          0.09434180554764346,
          0.038966342711529135,
          0.07739727603216284,
          0.15878869638073556,
          0.0015291256852042658,
          0.45579668188640204,
          0.010734262654686846,
          0.01210954146563703,
          0.03338134675343407,
          0.01253032884829472,
          0.01527589308384695,
          0.010657371349318073,
          0.009352514842326368,
          0.001590891101772145,
          0.006855974269122208,
          0.024775359897118987,
          0.010817112344944535,
          0.4783361034390281,
          0.2736533658986628,
          0.2763696067990767,
          0.27689194256489796,
          0.2733687818170745,
          0.15720332005119222,
          0.16084191164324374,
          0.15472914614227068,
          0.0606740433336532,
          0.18566292411289603,
          0.12973539773197326,
          0.19124983183844274,
          0.1978974872005352,
          0.19391961572937202,
          0.2053431646165654,
          0.006215051814932954,
          0.20026711384391113,
          0.12210838177682477,
          0.19583345995992194,
          0.18314949291621677,
          0.18096334781708587,
          0.039696008986773515,
          0.08503796437052175,
          0.03506301310961578,
          0.001631988316816102,
          0.008340721390555916,
          0.031884533132293794,
          0.003832623597776752,
          0.03353903135975167,
          0.02715041974129428,
          0.0006424178303584896,
          0.004491947191817817,
          0.04832318939589078,
          0.0015058530877785081,
          0.02031202484173468,
          0.02096179487070357,
          0.020812010887471123,
          0.021185723114642438,
          0.04403392754360513,
          0.016225589197017366,
          0.04919100971961709,
          0.05489942921999318,
          0.0541957617175017,
          0.014269011401263772,
          0.016277723898216884,
          0.014651610145137573,
          0.015061806501417856,
          0.030902170896147267,
          0.027815993937477357,
          0.013281455926529049,
          0.014839758098366873,
          0.02246931642686112,
          0.013861811124008177,
          0.03979682422410763,
          0.03831572158372713,
          0.03860544092601284,
          0.034442449881397066,
          0.06311156119726087,
          0.06415180249283628,
          0.06612160763136346,
          0.06299610762236793,
          0.06742187090399657,
          0.039963969073370874,
          0.025758281192454463,
          0.026179344133860187,
          0.010745728214879513,
          0.012687218977220693,
          0.010747276774693025,
          0.03668361590438406,
          0.020329920257578214,
          0.019955211467366347,
          0.02389592761013603,
          0.028657078800316677,
          0.028404697753506764,
          0.0007161679208828806,
          0.007749712074267287,
          0.008233942742062014,
          0.008718135821998128
         ],
         "xaxis": "x",
         "y": [
          0.05889457918639482,
          -1.080539182529713,
          -0.7148516764904822,
          null,
          0.14136631558604695,
          null,
          null,
          null,
          null,
          null,
          null,
          -0.727268335104841,
          null,
          null,
          null,
          null,
          null,
          null,
          null,
          null,
          null,
          0.16982317132090058,
          null,
          null,
          null,
          null,
          null,
          null,
          null,
          null,
          null,
          null,
          null,
          null,
          null,
          0.1819499468547686,
          0.19219248236544595,
          0.183206106870229,
          0.14740554642960674,
          -0.47845202435017875,
          -0.5417914774374336,
          null,
          null,
          null,
          0.15001449415402454,
          -0.6553773311431056,
          0.19509131317035464,
          0.1992946178374722,
          0.18388250072470771,
          -0.9358875253647695,
          null,
          0.13416755242052372,
          0.13561696782297805,
          0.10416465358971881,
          0.14759880181660065,
          null,
          0.1969272393467968,
          0.19552613779109093,
          0.2028698424968596,
          0.13474731858150546,
          null,
          0.20282152865011113,
          0.14469997101169196,
          0.13982027249009565,
          0.09865687506039231,
          null,
          0.19876316552323897,
          0.1891970238670403,
          0.21088994105710696,
          null,
          0.19683061165329985,
          0.19344864238090637,
          0.21064837182336457,
          0.18441395303894095,
          0.14909653106580345,
          -0.6296260508261667,
          0.19378683930814572,
          0.21316069185428543,
          0.21031017489612522,
          0.20828099333268915,
          0.20257995941636872,
          null,
          -0.09725577350468645,
          -1.1352304570489902,
          -1.0052662092955842,
          -0.8491641704512514,
          0.20030920861919027,
          0.20456082713305634,
          0.2094888395014011,
          null,
          0.20257995941636872,
          null,
          0.19784520243501788,
          0.13696975553193547,
          0.1872161561503527,
          null,
          0.20890907334041936,
          0.1607401681321867,
          0.20451251328630785,
          0.20808773794569524,
          0.15750314040003865,
          0.18624987921538314,
          0.20721808870422262,
          0.20514059329403808,
          0.2024350178761233,
          0.18929365156053726,
          0.14465165716494346,
          0.1364383032177022,
          null,
          null,
          null
         ],
         "yaxis": "y"
        }
       ],
       "layout": {
        "legend": {
         "tracegroupgap": 0
        },
        "margin": {
         "t": 60
        },
        "template": {
         "data": {
          "bar": [
           {
            "error_x": {
             "color": "#2a3f5f"
            },
            "error_y": {
             "color": "#2a3f5f"
            },
            "marker": {
             "line": {
              "color": "#E5ECF6",
              "width": 0.5
             },
             "pattern": {
              "fillmode": "overlay",
              "size": 10,
              "solidity": 0.2
             }
            },
            "type": "bar"
           }
          ],
          "barpolar": [
           {
            "marker": {
             "line": {
              "color": "#E5ECF6",
              "width": 0.5
             },
             "pattern": {
              "fillmode": "overlay",
              "size": 10,
              "solidity": 0.2
             }
            },
            "type": "barpolar"
           }
          ],
          "carpet": [
           {
            "aaxis": {
             "endlinecolor": "#2a3f5f",
             "gridcolor": "white",
             "linecolor": "white",
             "minorgridcolor": "white",
             "startlinecolor": "#2a3f5f"
            },
            "baxis": {
             "endlinecolor": "#2a3f5f",
             "gridcolor": "white",
             "linecolor": "white",
             "minorgridcolor": "white",
             "startlinecolor": "#2a3f5f"
            },
            "type": "carpet"
           }
          ],
          "choropleth": [
           {
            "colorbar": {
             "outlinewidth": 0,
             "ticks": ""
            },
            "type": "choropleth"
           }
          ],
          "contour": [
           {
            "colorbar": {
             "outlinewidth": 0,
             "ticks": ""
            },
            "colorscale": [
             [
              0,
              "#0d0887"
             ],
             [
              0.1111111111111111,
              "#46039f"
             ],
             [
              0.2222222222222222,
              "#7201a8"
             ],
             [
              0.3333333333333333,
              "#9c179e"
             ],
             [
              0.4444444444444444,
              "#bd3786"
             ],
             [
              0.5555555555555556,
              "#d8576b"
             ],
             [
              0.6666666666666666,
              "#ed7953"
             ],
             [
              0.7777777777777778,
              "#fb9f3a"
             ],
             [
              0.8888888888888888,
              "#fdca26"
             ],
             [
              1,
              "#f0f921"
             ]
            ],
            "type": "contour"
           }
          ],
          "contourcarpet": [
           {
            "colorbar": {
             "outlinewidth": 0,
             "ticks": ""
            },
            "type": "contourcarpet"
           }
          ],
          "heatmap": [
           {
            "colorbar": {
             "outlinewidth": 0,
             "ticks": ""
            },
            "colorscale": [
             [
              0,
              "#0d0887"
             ],
             [
              0.1111111111111111,
              "#46039f"
             ],
             [
              0.2222222222222222,
              "#7201a8"
             ],
             [
              0.3333333333333333,
              "#9c179e"
             ],
             [
              0.4444444444444444,
              "#bd3786"
             ],
             [
              0.5555555555555556,
              "#d8576b"
             ],
             [
              0.6666666666666666,
              "#ed7953"
             ],
             [
              0.7777777777777778,
              "#fb9f3a"
             ],
             [
              0.8888888888888888,
              "#fdca26"
             ],
             [
              1,
              "#f0f921"
             ]
            ],
            "type": "heatmap"
           }
          ],
          "heatmapgl": [
           {
            "colorbar": {
             "outlinewidth": 0,
             "ticks": ""
            },
            "colorscale": [
             [
              0,
              "#0d0887"
             ],
             [
              0.1111111111111111,
              "#46039f"
             ],
             [
              0.2222222222222222,
              "#7201a8"
             ],
             [
              0.3333333333333333,
              "#9c179e"
             ],
             [
              0.4444444444444444,
              "#bd3786"
             ],
             [
              0.5555555555555556,
              "#d8576b"
             ],
             [
              0.6666666666666666,
              "#ed7953"
             ],
             [
              0.7777777777777778,
              "#fb9f3a"
             ],
             [
              0.8888888888888888,
              "#fdca26"
             ],
             [
              1,
              "#f0f921"
             ]
            ],
            "type": "heatmapgl"
           }
          ],
          "histogram": [
           {
            "marker": {
             "pattern": {
              "fillmode": "overlay",
              "size": 10,
              "solidity": 0.2
             }
            },
            "type": "histogram"
           }
          ],
          "histogram2d": [
           {
            "colorbar": {
             "outlinewidth": 0,
             "ticks": ""
            },
            "colorscale": [
             [
              0,
              "#0d0887"
             ],
             [
              0.1111111111111111,
              "#46039f"
             ],
             [
              0.2222222222222222,
              "#7201a8"
             ],
             [
              0.3333333333333333,
              "#9c179e"
             ],
             [
              0.4444444444444444,
              "#bd3786"
             ],
             [
              0.5555555555555556,
              "#d8576b"
             ],
             [
              0.6666666666666666,
              "#ed7953"
             ],
             [
              0.7777777777777778,
              "#fb9f3a"
             ],
             [
              0.8888888888888888,
              "#fdca26"
             ],
             [
              1,
              "#f0f921"
             ]
            ],
            "type": "histogram2d"
           }
          ],
          "histogram2dcontour": [
           {
            "colorbar": {
             "outlinewidth": 0,
             "ticks": ""
            },
            "colorscale": [
             [
              0,
              "#0d0887"
             ],
             [
              0.1111111111111111,
              "#46039f"
             ],
             [
              0.2222222222222222,
              "#7201a8"
             ],
             [
              0.3333333333333333,
              "#9c179e"
             ],
             [
              0.4444444444444444,
              "#bd3786"
             ],
             [
              0.5555555555555556,
              "#d8576b"
             ],
             [
              0.6666666666666666,
              "#ed7953"
             ],
             [
              0.7777777777777778,
              "#fb9f3a"
             ],
             [
              0.8888888888888888,
              "#fdca26"
             ],
             [
              1,
              "#f0f921"
             ]
            ],
            "type": "histogram2dcontour"
           }
          ],
          "mesh3d": [
           {
            "colorbar": {
             "outlinewidth": 0,
             "ticks": ""
            },
            "type": "mesh3d"
           }
          ],
          "parcoords": [
           {
            "line": {
             "colorbar": {
              "outlinewidth": 0,
              "ticks": ""
             }
            },
            "type": "parcoords"
           }
          ],
          "pie": [
           {
            "automargin": true,
            "type": "pie"
           }
          ],
          "scatter": [
           {
            "fillpattern": {
             "fillmode": "overlay",
             "size": 10,
             "solidity": 0.2
            },
            "type": "scatter"
           }
          ],
          "scatter3d": [
           {
            "line": {
             "colorbar": {
              "outlinewidth": 0,
              "ticks": ""
             }
            },
            "marker": {
             "colorbar": {
              "outlinewidth": 0,
              "ticks": ""
             }
            },
            "type": "scatter3d"
           }
          ],
          "scattercarpet": [
           {
            "marker": {
             "colorbar": {
              "outlinewidth": 0,
              "ticks": ""
             }
            },
            "type": "scattercarpet"
           }
          ],
          "scattergeo": [
           {
            "marker": {
             "colorbar": {
              "outlinewidth": 0,
              "ticks": ""
             }
            },
            "type": "scattergeo"
           }
          ],
          "scattergl": [
           {
            "marker": {
             "colorbar": {
              "outlinewidth": 0,
              "ticks": ""
             }
            },
            "type": "scattergl"
           }
          ],
          "scattermapbox": [
           {
            "marker": {
             "colorbar": {
              "outlinewidth": 0,
              "ticks": ""
             }
            },
            "type": "scattermapbox"
           }
          ],
          "scatterpolar": [
           {
            "marker": {
             "colorbar": {
              "outlinewidth": 0,
              "ticks": ""
             }
            },
            "type": "scatterpolar"
           }
          ],
          "scatterpolargl": [
           {
            "marker": {
             "colorbar": {
              "outlinewidth": 0,
              "ticks": ""
             }
            },
            "type": "scatterpolargl"
           }
          ],
          "scatterternary": [
           {
            "marker": {
             "colorbar": {
              "outlinewidth": 0,
              "ticks": ""
             }
            },
            "type": "scatterternary"
           }
          ],
          "surface": [
           {
            "colorbar": {
             "outlinewidth": 0,
             "ticks": ""
            },
            "colorscale": [
             [
              0,
              "#0d0887"
             ],
             [
              0.1111111111111111,
              "#46039f"
             ],
             [
              0.2222222222222222,
              "#7201a8"
             ],
             [
              0.3333333333333333,
              "#9c179e"
             ],
             [
              0.4444444444444444,
              "#bd3786"
             ],
             [
              0.5555555555555556,
              "#d8576b"
             ],
             [
              0.6666666666666666,
              "#ed7953"
             ],
             [
              0.7777777777777778,
              "#fb9f3a"
             ],
             [
              0.8888888888888888,
              "#fdca26"
             ],
             [
              1,
              "#f0f921"
             ]
            ],
            "type": "surface"
           }
          ],
          "table": [
           {
            "cells": {
             "fill": {
              "color": "#EBF0F8"
             },
             "line": {
              "color": "white"
             }
            },
            "header": {
             "fill": {
              "color": "#C8D4E3"
             },
             "line": {
              "color": "white"
             }
            },
            "type": "table"
           }
          ]
         },
         "layout": {
          "annotationdefaults": {
           "arrowcolor": "#2a3f5f",
           "arrowhead": 0,
           "arrowwidth": 1
          },
          "autotypenumbers": "strict",
          "coloraxis": {
           "colorbar": {
            "outlinewidth": 0,
            "ticks": ""
           }
          },
          "colorscale": {
           "diverging": [
            [
             0,
             "#8e0152"
            ],
            [
             0.1,
             "#c51b7d"
            ],
            [
             0.2,
             "#de77ae"
            ],
            [
             0.3,
             "#f1b6da"
            ],
            [
             0.4,
             "#fde0ef"
            ],
            [
             0.5,
             "#f7f7f7"
            ],
            [
             0.6,
             "#e6f5d0"
            ],
            [
             0.7,
             "#b8e186"
            ],
            [
             0.8,
             "#7fbc41"
            ],
            [
             0.9,
             "#4d9221"
            ],
            [
             1,
             "#276419"
            ]
           ],
           "sequential": [
            [
             0,
             "#0d0887"
            ],
            [
             0.1111111111111111,
             "#46039f"
            ],
            [
             0.2222222222222222,
             "#7201a8"
            ],
            [
             0.3333333333333333,
             "#9c179e"
            ],
            [
             0.4444444444444444,
             "#bd3786"
            ],
            [
             0.5555555555555556,
             "#d8576b"
            ],
            [
             0.6666666666666666,
             "#ed7953"
            ],
            [
             0.7777777777777778,
             "#fb9f3a"
            ],
            [
             0.8888888888888888,
             "#fdca26"
            ],
            [
             1,
             "#f0f921"
            ]
           ],
           "sequentialminus": [
            [
             0,
             "#0d0887"
            ],
            [
             0.1111111111111111,
             "#46039f"
            ],
            [
             0.2222222222222222,
             "#7201a8"
            ],
            [
             0.3333333333333333,
             "#9c179e"
            ],
            [
             0.4444444444444444,
             "#bd3786"
            ],
            [
             0.5555555555555556,
             "#d8576b"
            ],
            [
             0.6666666666666666,
             "#ed7953"
            ],
            [
             0.7777777777777778,
             "#fb9f3a"
            ],
            [
             0.8888888888888888,
             "#fdca26"
            ],
            [
             1,
             "#f0f921"
            ]
           ]
          },
          "colorway": [
           "#636efa",
           "#EF553B",
           "#00cc96",
           "#ab63fa",
           "#FFA15A",
           "#19d3f3",
           "#FF6692",
           "#B6E880",
           "#FF97FF",
           "#FECB52"
          ],
          "font": {
           "color": "#2a3f5f"
          },
          "geo": {
           "bgcolor": "white",
           "lakecolor": "white",
           "landcolor": "#E5ECF6",
           "showlakes": true,
           "showland": true,
           "subunitcolor": "white"
          },
          "hoverlabel": {
           "align": "left"
          },
          "hovermode": "closest",
          "mapbox": {
           "style": "light"
          },
          "paper_bgcolor": "white",
          "plot_bgcolor": "#E5ECF6",
          "polar": {
           "angularaxis": {
            "gridcolor": "white",
            "linecolor": "white",
            "ticks": ""
           },
           "bgcolor": "#E5ECF6",
           "radialaxis": {
            "gridcolor": "white",
            "linecolor": "white",
            "ticks": ""
           }
          },
          "scene": {
           "xaxis": {
            "backgroundcolor": "#E5ECF6",
            "gridcolor": "white",
            "gridwidth": 2,
            "linecolor": "white",
            "showbackground": true,
            "ticks": "",
            "zerolinecolor": "white"
           },
           "yaxis": {
            "backgroundcolor": "#E5ECF6",
            "gridcolor": "white",
            "gridwidth": 2,
            "linecolor": "white",
            "showbackground": true,
            "ticks": "",
            "zerolinecolor": "white"
           },
           "zaxis": {
            "backgroundcolor": "#E5ECF6",
            "gridcolor": "white",
            "gridwidth": 2,
            "linecolor": "white",
            "showbackground": true,
            "ticks": "",
            "zerolinecolor": "white"
           }
          },
          "shapedefaults": {
           "line": {
            "color": "#2a3f5f"
           }
          },
          "ternary": {
           "aaxis": {
            "gridcolor": "white",
            "linecolor": "white",
            "ticks": ""
           },
           "baxis": {
            "gridcolor": "white",
            "linecolor": "white",
            "ticks": ""
           },
           "bgcolor": "#E5ECF6",
           "caxis": {
            "gridcolor": "white",
            "linecolor": "white",
            "ticks": ""
           }
          },
          "title": {
           "x": 0.05
          },
          "xaxis": {
           "automargin": true,
           "gridcolor": "white",
           "linecolor": "white",
           "ticks": "",
           "title": {
            "standoff": 15
           },
           "zerolinecolor": "white",
           "zerolinewidth": 2
          },
          "yaxis": {
           "automargin": true,
           "gridcolor": "white",
           "linecolor": "white",
           "ticks": "",
           "title": {
            "standoff": 15
           },
           "zerolinecolor": "white",
           "zerolinewidth": 2
          }
         }
        },
        "xaxis": {
         "anchor": "y",
         "domain": [
          0,
          1
         ],
         "title": {
          "text": "params_label_smoothing"
         }
        },
        "yaxis": {
         "anchor": "x",
         "domain": [
          0,
          1
         ],
         "title": {
          "text": "value"
         }
        }
       }
      },
      "text/html": [
       "<div>                            <div id=\"6e24a3f2-c9aa-435d-9757-e3c989bd0fc6\" class=\"plotly-graph-div\" style=\"height:525px; width:100%;\"></div>            <script type=\"text/javascript\">                require([\"plotly\"], function(Plotly) {                    window.PLOTLYENV=window.PLOTLYENV || {};                                    if (document.getElementById(\"6e24a3f2-c9aa-435d-9757-e3c989bd0fc6\")) {                    Plotly.newPlot(                        \"6e24a3f2-c9aa-435d-9757-e3c989bd0fc6\",                        [{\"hovertemplate\":\"params_label_smoothing=%{x}\\u003cbr\\u003evalue=%{y}\\u003cextra\\u003e\\u003c\\u002fextra\\u003e\",\"legendgroup\":\"\",\"marker\":{\"color\":\"#636efa\",\"symbol\":\"circle\"},\"mode\":\"markers\",\"name\":\"\",\"orientation\":\"v\",\"showlegend\":false,\"x\":[0.016775299520835563,0.8685954727373462,0.2550035786346283,0.5937133593592175,0.5589895536524291,0.7775301189807589,0.9209720374913768,0.6326569433644911,0.2539937378152423,0.057227547046979715,0.2294147701871205,0.28554334272173976,0.016250404236747184,0.2479833194502359,0.26851939832107374,0.289037842138581,0.09434180554764346,0.038966342711529135,0.07739727603216284,0.15878869638073556,0.0015291256852042658,0.45579668188640204,0.010734262654686846,0.01210954146563703,0.03338134675343407,0.01253032884829472,0.01527589308384695,0.010657371349318073,0.009352514842326368,0.001590891101772145,0.006855974269122208,0.024775359897118987,0.010817112344944535,0.4783361034390281,0.2736533658986628,0.2763696067990767,0.27689194256489796,0.2733687818170745,0.15720332005119222,0.16084191164324374,0.15472914614227068,0.0606740433336532,0.18566292411289603,0.12973539773197326,0.19124983183844274,0.1978974872005352,0.19391961572937202,0.2053431646165654,0.006215051814932954,0.20026711384391113,0.12210838177682477,0.19583345995992194,0.18314949291621677,0.18096334781708587,0.039696008986773515,0.08503796437052175,0.03506301310961578,0.001631988316816102,0.008340721390555916,0.031884533132293794,0.003832623597776752,0.03353903135975167,0.02715041974129428,0.0006424178303584896,0.004491947191817817,0.04832318939589078,0.0015058530877785081,0.02031202484173468,0.02096179487070357,0.020812010887471123,0.021185723114642438,0.04403392754360513,0.016225589197017366,0.04919100971961709,0.05489942921999318,0.0541957617175017,0.014269011401263772,0.016277723898216884,0.014651610145137573,0.015061806501417856,0.030902170896147267,0.027815993937477357,0.013281455926529049,0.014839758098366873,0.02246931642686112,0.013861811124008177,0.03979682422410763,0.03831572158372713,0.03860544092601284,0.034442449881397066,0.06311156119726087,0.06415180249283628,0.06612160763136346,0.06299610762236793,0.06742187090399657,0.039963969073370874,0.025758281192454463,0.026179344133860187,0.010745728214879513,0.012687218977220693,0.010747276774693025,0.03668361590438406,0.020329920257578214,0.019955211467366347,0.02389592761013603,0.028657078800316677,0.028404697753506764,0.0007161679208828806,0.007749712074267287,0.008233942742062014,0.008718135821998128],\"xaxis\":\"x\",\"y\":[0.05889457918639482,-1.080539182529713,-0.7148516764904822,null,0.14136631558604695,null,null,null,null,null,null,-0.727268335104841,null,null,null,null,null,null,null,null,null,0.16982317132090058,null,null,null,null,null,null,null,null,null,null,null,null,null,0.1819499468547686,0.19219248236544595,0.183206106870229,0.14740554642960674,-0.47845202435017875,-0.5417914774374336,null,null,null,0.15001449415402454,-0.6553773311431056,0.19509131317035464,0.1992946178374722,0.18388250072470771,-0.9358875253647695,null,0.13416755242052372,0.13561696782297805,0.10416465358971881,0.14759880181660065,null,0.1969272393467968,0.19552613779109093,0.2028698424968596,0.13474731858150546,null,0.20282152865011113,0.14469997101169196,0.13982027249009565,0.09865687506039231,null,0.19876316552323897,0.1891970238670403,0.21088994105710696,null,0.19683061165329985,0.19344864238090637,0.21064837182336457,0.18441395303894095,0.14909653106580345,-0.6296260508261667,0.19378683930814572,0.21316069185428543,0.21031017489612522,0.20828099333268915,0.20257995941636872,null,-0.09725577350468645,-1.1352304570489902,-1.0052662092955842,-0.8491641704512514,0.20030920861919027,0.20456082713305634,0.2094888395014011,null,0.20257995941636872,null,0.19784520243501788,0.13696975553193547,0.1872161561503527,null,0.20890907334041936,0.1607401681321867,0.20451251328630785,0.20808773794569524,0.15750314040003865,0.18624987921538314,0.20721808870422262,0.20514059329403808,0.2024350178761233,0.18929365156053726,0.14465165716494346,0.1364383032177022,null,null,null],\"yaxis\":\"y\",\"type\":\"scatter\"}],                        {\"template\":{\"data\":{\"histogram2dcontour\":[{\"type\":\"histogram2dcontour\",\"colorbar\":{\"outlinewidth\":0,\"ticks\":\"\"},\"colorscale\":[[0.0,\"#0d0887\"],[0.1111111111111111,\"#46039f\"],[0.2222222222222222,\"#7201a8\"],[0.3333333333333333,\"#9c179e\"],[0.4444444444444444,\"#bd3786\"],[0.5555555555555556,\"#d8576b\"],[0.6666666666666666,\"#ed7953\"],[0.7777777777777778,\"#fb9f3a\"],[0.8888888888888888,\"#fdca26\"],[1.0,\"#f0f921\"]]}],\"choropleth\":[{\"type\":\"choropleth\",\"colorbar\":{\"outlinewidth\":0,\"ticks\":\"\"}}],\"histogram2d\":[{\"type\":\"histogram2d\",\"colorbar\":{\"outlinewidth\":0,\"ticks\":\"\"},\"colorscale\":[[0.0,\"#0d0887\"],[0.1111111111111111,\"#46039f\"],[0.2222222222222222,\"#7201a8\"],[0.3333333333333333,\"#9c179e\"],[0.4444444444444444,\"#bd3786\"],[0.5555555555555556,\"#d8576b\"],[0.6666666666666666,\"#ed7953\"],[0.7777777777777778,\"#fb9f3a\"],[0.8888888888888888,\"#fdca26\"],[1.0,\"#f0f921\"]]}],\"heatmap\":[{\"type\":\"heatmap\",\"colorbar\":{\"outlinewidth\":0,\"ticks\":\"\"},\"colorscale\":[[0.0,\"#0d0887\"],[0.1111111111111111,\"#46039f\"],[0.2222222222222222,\"#7201a8\"],[0.3333333333333333,\"#9c179e\"],[0.4444444444444444,\"#bd3786\"],[0.5555555555555556,\"#d8576b\"],[0.6666666666666666,\"#ed7953\"],[0.7777777777777778,\"#fb9f3a\"],[0.8888888888888888,\"#fdca26\"],[1.0,\"#f0f921\"]]}],\"heatmapgl\":[{\"type\":\"heatmapgl\",\"colorbar\":{\"outlinewidth\":0,\"ticks\":\"\"},\"colorscale\":[[0.0,\"#0d0887\"],[0.1111111111111111,\"#46039f\"],[0.2222222222222222,\"#7201a8\"],[0.3333333333333333,\"#9c179e\"],[0.4444444444444444,\"#bd3786\"],[0.5555555555555556,\"#d8576b\"],[0.6666666666666666,\"#ed7953\"],[0.7777777777777778,\"#fb9f3a\"],[0.8888888888888888,\"#fdca26\"],[1.0,\"#f0f921\"]]}],\"contourcarpet\":[{\"type\":\"contourcarpet\",\"colorbar\":{\"outlinewidth\":0,\"ticks\":\"\"}}],\"contour\":[{\"type\":\"contour\",\"colorbar\":{\"outlinewidth\":0,\"ticks\":\"\"},\"colorscale\":[[0.0,\"#0d0887\"],[0.1111111111111111,\"#46039f\"],[0.2222222222222222,\"#7201a8\"],[0.3333333333333333,\"#9c179e\"],[0.4444444444444444,\"#bd3786\"],[0.5555555555555556,\"#d8576b\"],[0.6666666666666666,\"#ed7953\"],[0.7777777777777778,\"#fb9f3a\"],[0.8888888888888888,\"#fdca26\"],[1.0,\"#f0f921\"]]}],\"surface\":[{\"type\":\"surface\",\"colorbar\":{\"outlinewidth\":0,\"ticks\":\"\"},\"colorscale\":[[0.0,\"#0d0887\"],[0.1111111111111111,\"#46039f\"],[0.2222222222222222,\"#7201a8\"],[0.3333333333333333,\"#9c179e\"],[0.4444444444444444,\"#bd3786\"],[0.5555555555555556,\"#d8576b\"],[0.6666666666666666,\"#ed7953\"],[0.7777777777777778,\"#fb9f3a\"],[0.8888888888888888,\"#fdca26\"],[1.0,\"#f0f921\"]]}],\"mesh3d\":[{\"type\":\"mesh3d\",\"colorbar\":{\"outlinewidth\":0,\"ticks\":\"\"}}],\"scatter\":[{\"fillpattern\":{\"fillmode\":\"overlay\",\"size\":10,\"solidity\":0.2},\"type\":\"scatter\"}],\"parcoords\":[{\"type\":\"parcoords\",\"line\":{\"colorbar\":{\"outlinewidth\":0,\"ticks\":\"\"}}}],\"scatterpolargl\":[{\"type\":\"scatterpolargl\",\"marker\":{\"colorbar\":{\"outlinewidth\":0,\"ticks\":\"\"}}}],\"bar\":[{\"error_x\":{\"color\":\"#2a3f5f\"},\"error_y\":{\"color\":\"#2a3f5f\"},\"marker\":{\"line\":{\"color\":\"#E5ECF6\",\"width\":0.5},\"pattern\":{\"fillmode\":\"overlay\",\"size\":10,\"solidity\":0.2}},\"type\":\"bar\"}],\"scattergeo\":[{\"type\":\"scattergeo\",\"marker\":{\"colorbar\":{\"outlinewidth\":0,\"ticks\":\"\"}}}],\"scatterpolar\":[{\"type\":\"scatterpolar\",\"marker\":{\"colorbar\":{\"outlinewidth\":0,\"ticks\":\"\"}}}],\"histogram\":[{\"marker\":{\"pattern\":{\"fillmode\":\"overlay\",\"size\":10,\"solidity\":0.2}},\"type\":\"histogram\"}],\"scattergl\":[{\"type\":\"scattergl\",\"marker\":{\"colorbar\":{\"outlinewidth\":0,\"ticks\":\"\"}}}],\"scatter3d\":[{\"type\":\"scatter3d\",\"line\":{\"colorbar\":{\"outlinewidth\":0,\"ticks\":\"\"}},\"marker\":{\"colorbar\":{\"outlinewidth\":0,\"ticks\":\"\"}}}],\"scattermapbox\":[{\"type\":\"scattermapbox\",\"marker\":{\"colorbar\":{\"outlinewidth\":0,\"ticks\":\"\"}}}],\"scatterternary\":[{\"type\":\"scatterternary\",\"marker\":{\"colorbar\":{\"outlinewidth\":0,\"ticks\":\"\"}}}],\"scattercarpet\":[{\"type\":\"scattercarpet\",\"marker\":{\"colorbar\":{\"outlinewidth\":0,\"ticks\":\"\"}}}],\"carpet\":[{\"aaxis\":{\"endlinecolor\":\"#2a3f5f\",\"gridcolor\":\"white\",\"linecolor\":\"white\",\"minorgridcolor\":\"white\",\"startlinecolor\":\"#2a3f5f\"},\"baxis\":{\"endlinecolor\":\"#2a3f5f\",\"gridcolor\":\"white\",\"linecolor\":\"white\",\"minorgridcolor\":\"white\",\"startlinecolor\":\"#2a3f5f\"},\"type\":\"carpet\"}],\"table\":[{\"cells\":{\"fill\":{\"color\":\"#EBF0F8\"},\"line\":{\"color\":\"white\"}},\"header\":{\"fill\":{\"color\":\"#C8D4E3\"},\"line\":{\"color\":\"white\"}},\"type\":\"table\"}],\"barpolar\":[{\"marker\":{\"line\":{\"color\":\"#E5ECF6\",\"width\":0.5},\"pattern\":{\"fillmode\":\"overlay\",\"size\":10,\"solidity\":0.2}},\"type\":\"barpolar\"}],\"pie\":[{\"automargin\":true,\"type\":\"pie\"}]},\"layout\":{\"autotypenumbers\":\"strict\",\"colorway\":[\"#636efa\",\"#EF553B\",\"#00cc96\",\"#ab63fa\",\"#FFA15A\",\"#19d3f3\",\"#FF6692\",\"#B6E880\",\"#FF97FF\",\"#FECB52\"],\"font\":{\"color\":\"#2a3f5f\"},\"hovermode\":\"closest\",\"hoverlabel\":{\"align\":\"left\"},\"paper_bgcolor\":\"white\",\"plot_bgcolor\":\"#E5ECF6\",\"polar\":{\"bgcolor\":\"#E5ECF6\",\"angularaxis\":{\"gridcolor\":\"white\",\"linecolor\":\"white\",\"ticks\":\"\"},\"radialaxis\":{\"gridcolor\":\"white\",\"linecolor\":\"white\",\"ticks\":\"\"}},\"ternary\":{\"bgcolor\":\"#E5ECF6\",\"aaxis\":{\"gridcolor\":\"white\",\"linecolor\":\"white\",\"ticks\":\"\"},\"baxis\":{\"gridcolor\":\"white\",\"linecolor\":\"white\",\"ticks\":\"\"},\"caxis\":{\"gridcolor\":\"white\",\"linecolor\":\"white\",\"ticks\":\"\"}},\"coloraxis\":{\"colorbar\":{\"outlinewidth\":0,\"ticks\":\"\"}},\"colorscale\":{\"sequential\":[[0.0,\"#0d0887\"],[0.1111111111111111,\"#46039f\"],[0.2222222222222222,\"#7201a8\"],[0.3333333333333333,\"#9c179e\"],[0.4444444444444444,\"#bd3786\"],[0.5555555555555556,\"#d8576b\"],[0.6666666666666666,\"#ed7953\"],[0.7777777777777778,\"#fb9f3a\"],[0.8888888888888888,\"#fdca26\"],[1.0,\"#f0f921\"]],\"sequentialminus\":[[0.0,\"#0d0887\"],[0.1111111111111111,\"#46039f\"],[0.2222222222222222,\"#7201a8\"],[0.3333333333333333,\"#9c179e\"],[0.4444444444444444,\"#bd3786\"],[0.5555555555555556,\"#d8576b\"],[0.6666666666666666,\"#ed7953\"],[0.7777777777777778,\"#fb9f3a\"],[0.8888888888888888,\"#fdca26\"],[1.0,\"#f0f921\"]],\"diverging\":[[0,\"#8e0152\"],[0.1,\"#c51b7d\"],[0.2,\"#de77ae\"],[0.3,\"#f1b6da\"],[0.4,\"#fde0ef\"],[0.5,\"#f7f7f7\"],[0.6,\"#e6f5d0\"],[0.7,\"#b8e186\"],[0.8,\"#7fbc41\"],[0.9,\"#4d9221\"],[1,\"#276419\"]]},\"xaxis\":{\"gridcolor\":\"white\",\"linecolor\":\"white\",\"ticks\":\"\",\"title\":{\"standoff\":15},\"zerolinecolor\":\"white\",\"automargin\":true,\"zerolinewidth\":2},\"yaxis\":{\"gridcolor\":\"white\",\"linecolor\":\"white\",\"ticks\":\"\",\"title\":{\"standoff\":15},\"zerolinecolor\":\"white\",\"automargin\":true,\"zerolinewidth\":2},\"scene\":{\"xaxis\":{\"backgroundcolor\":\"#E5ECF6\",\"gridcolor\":\"white\",\"linecolor\":\"white\",\"showbackground\":true,\"ticks\":\"\",\"zerolinecolor\":\"white\",\"gridwidth\":2},\"yaxis\":{\"backgroundcolor\":\"#E5ECF6\",\"gridcolor\":\"white\",\"linecolor\":\"white\",\"showbackground\":true,\"ticks\":\"\",\"zerolinecolor\":\"white\",\"gridwidth\":2},\"zaxis\":{\"backgroundcolor\":\"#E5ECF6\",\"gridcolor\":\"white\",\"linecolor\":\"white\",\"showbackground\":true,\"ticks\":\"\",\"zerolinecolor\":\"white\",\"gridwidth\":2}},\"shapedefaults\":{\"line\":{\"color\":\"#2a3f5f\"}},\"annotationdefaults\":{\"arrowcolor\":\"#2a3f5f\",\"arrowhead\":0,\"arrowwidth\":1},\"geo\":{\"bgcolor\":\"white\",\"landcolor\":\"#E5ECF6\",\"subunitcolor\":\"white\",\"showland\":true,\"showlakes\":true,\"lakecolor\":\"white\"},\"title\":{\"x\":0.05},\"mapbox\":{\"style\":\"light\"}}},\"xaxis\":{\"anchor\":\"y\",\"domain\":[0.0,1.0],\"title\":{\"text\":\"params_label_smoothing\"}},\"yaxis\":{\"anchor\":\"x\",\"domain\":[0.0,1.0],\"title\":{\"text\":\"value\"}},\"legend\":{\"tracegroupgap\":0},\"margin\":{\"t\":60}},                        {\"responsive\": true}                    ).then(function(){\n",
       "                            \n",
       "var gd = document.getElementById('6e24a3f2-c9aa-435d-9757-e3c989bd0fc6');\n",
       "var x = new MutationObserver(function (mutations, observer) {{\n",
       "        var display = window.getComputedStyle(gd).display;\n",
       "        if (!display || display === 'none') {{\n",
       "            console.log([gd, 'removed!']);\n",
       "            Plotly.purge(gd);\n",
       "            observer.disconnect();\n",
       "        }}\n",
       "}});\n",
       "\n",
       "// Listen for the removal of the full notebook cells\n",
       "var notebookContainer = gd.closest('#notebook-container');\n",
       "if (notebookContainer) {{\n",
       "    x.observe(notebookContainer, {childList: true});\n",
       "}}\n",
       "\n",
       "// Listen for the clearing of the current output cell\n",
       "var outputEl = gd.closest('.output');\n",
       "if (outputEl) {{\n",
       "    x.observe(outputEl, {childList: true});\n",
       "}}\n",
       "\n",
       "                        })                };                });            </script>        </div>"
      ]
     },
     "metadata": {},
     "output_type": "display_data"
    }
   ],
   "source": [
    "px.scatter(df,x=\"params_label_smoothing\",y=\"value\")"
   ]
  }
 ],
 "metadata": {
  "kernelspec": {
   "display_name": "Python 3",
   "language": "python",
   "name": "python3"
  },
  "language_info": {
   "codemirror_mode": {
    "name": "ipython",
    "version": 3
   },
   "file_extension": ".py",
   "mimetype": "text/x-python",
   "name": "python",
   "nbconvert_exporter": "python",
   "pygments_lexer": "ipython3",
   "version": "3.10.6"
  },
  "papermill": {
   "default_parameters": {},
   "duration": 2413.090372,
   "end_time": "2023-03-23T16:43:55.112208",
   "environment_variables": {},
   "exception": null,
   "input_path": "__notebook__.ipynb",
   "output_path": "__notebook__.ipynb",
   "parameters": {},
   "start_time": "2023-03-23T16:03:42.021836",
   "version": "2.4.0"
  }
 },
 "nbformat": 4,
 "nbformat_minor": 5
}
