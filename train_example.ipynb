{
 "cells": [
  {
   "cell_type": "code",
   "execution_count": 2,
   "id": "51501e81",
   "metadata": {},
   "outputs": [],
   "source": [
    "import numpy as np"
   ]
  },
  {
   "cell_type": "code",
   "execution_count": 3,
   "id": "a8ee1c64",
   "metadata": {},
   "outputs": [
    {
     "name": "stderr",
     "output_type": "stream",
     "text": [
      "2023-06-25 13:37:25.097094: I tensorflow/core/util/port.cc:110] oneDNN custom operations are on. You may see slightly different numerical results due to floating-point round-off errors from different computation orders. To turn them off, set the environment variable `TF_ENABLE_ONEDNN_OPTS=0`.\n",
      "2023-06-25 13:37:25.155972: I tensorflow/core/platform/cpu_feature_guard.cc:183] This TensorFlow binary is optimized to use available CPU instructions in performance-critical operations.\n",
      "To enable the following instructions: SSE3 SSE4.1 SSE4.2 AVX, in other operations, rebuild TensorFlow with the appropriate compiler flags.\n"
     ]
    }
   ],
   "source": [
    "import tensorflow as tf\n",
    "import numpy as np\n",
    "import pandas as pd\n",
    "import os\n",
    "import random\n",
    "import sys\n",
    "import glob\n",
    "sys.path.append(\"./\")"
   ]
  },
  {
   "cell_type": "code",
   "execution_count": 4,
   "id": "072d103c",
   "metadata": {},
   "outputs": [],
   "source": [
    "os.environ[\"CUDA_VISIBLE_DEVICES\"] = \"0\""
   ]
  },
  {
   "attachments": {},
   "cell_type": "markdown",
   "id": "456f4a6b",
   "metadata": {},
   "source": [
    "#### Configuration file"
   ]
  },
  {
   "cell_type": "code",
   "execution_count": 5,
   "id": "083f2690",
   "metadata": {},
   "outputs": [],
   "source": [
    "from signet.configs.Conv1D_LSTM_CTC_Loss import Conv1D_LSTM_CTC_Loss\n",
    "CFG = Conv1D_LSTM_CTC_Loss()"
   ]
  },
  {
   "attachments": {},
   "cell_type": "markdown",
   "id": "aed92803",
   "metadata": {},
   "source": [
    "#### Set random seeds and training strategy"
   ]
  },
  {
   "cell_type": "code",
   "execution_count": 6,
   "id": "6d0fe852",
   "metadata": {},
   "outputs": [
    {
     "name": "stdout",
     "output_type": "stream",
     "text": [
      "Using single GPU\n",
      "REPLICAS: 1\n"
     ]
    }
   ],
   "source": [
    "# Seed all random number generators\n",
    "def seed_everything(seed=42):\n",
    "    os.environ['PYTHONHASHSEED'] = str(seed)\n",
    "    random.seed(seed)\n",
    "    np.random.seed(seed)\n",
    "    tf.random.set_seed(seed)\n",
    "    \n",
    "def get_strategy(CFG):\n",
    "    if CFG.device == \"GPU\"  or CFG.device==\"CPU\":\n",
    "        ngpu = len(tf.config.experimental.list_physical_devices('GPU'))\n",
    "        if ngpu>1:\n",
    "            print(\"Using multi GPU\")\n",
    "            strategy = tf.distribute.MirroredStrategy()\n",
    "        elif ngpu==1:\n",
    "            print(\"Using single GPU\")\n",
    "            strategy = tf.distribute.get_strategy()\n",
    "        else:\n",
    "            print(\"Using CPU\")\n",
    "            strategy = tf.distribute.get_strategy()\n",
    "            CFG.device = \"CPU\"\n",
    "\n",
    "    AUTO     = tf.data.experimental.AUTOTUNE\n",
    "    REPLICAS = strategy.num_replicas_in_sync\n",
    "    print(f'REPLICAS: {REPLICAS}')\n",
    "    \n",
    "    return strategy, REPLICAS\n",
    "\n",
    "STRATEGY, N_REPLICAS = get_strategy(CFG)"
   ]
  },
  {
   "attachments": {},
   "cell_type": "markdown",
   "id": "2776bab8",
   "metadata": {},
   "source": [
    "#### Prepare dataset for training "
   ]
  },
  {
   "cell_type": "code",
   "execution_count": 7,
   "id": "c829dec5",
   "metadata": {},
   "outputs": [],
   "source": [
    "from signet.dataset.utils import get_tfrec_dataset"
   ]
  },
  {
   "cell_type": "code",
   "execution_count": 8,
   "id": "4b6205f6",
   "metadata": {},
   "outputs": [
    {
     "name": "stdout",
     "output_type": "stream",
     "text": [
      "120165\n"
     ]
    }
   ],
   "source": [
    "ALL_FILENAMES = glob.glob('../dataset/tdf_data/*.tfrecords')\n",
    "print(len(ALL_FILENAMES))"
   ]
  },
  {
   "cell_type": "code",
   "execution_count": 9,
   "id": "f2593738",
   "metadata": {},
   "outputs": [],
   "source": [
    "ROOT_DIR = \"../dataset\"\n",
    "supp_df = pd.read_csv(\"../dataset/supplemental_metadata.csv\")\n",
    "train_df = pd.read_csv(\"../dataset/train.csv\")"
   ]
  },
  {
   "cell_type": "code",
   "execution_count": 10,
   "id": "9520b8c6",
   "metadata": {},
   "outputs": [
    {
     "name": "stderr",
     "output_type": "stream",
     "text": [
      "2023-06-25 13:37:32.458578: I tensorflow/core/common_runtime/gpu/gpu_device.cc:1638] Created device /job:localhost/replica:0/task:0/device:GPU:0 with 38121 MB memory:  -> device: 0, name: NVIDIA A100-PCIE-40GB, pci bus id: 0000:3d:00.0, compute capability: 8.0\n",
      "2023-06-25 13:37:33.928220: I tensorflow/core/common_runtime/executor.cc:1209] [/device:CPU:0] (DEBUG INFO) Executor start aborting (this does not indicate an error and you can ignore this message): INVALID_ARGUMENT: You must feed a value for placeholder tensor 'Placeholder/_0' with dtype string and shape [120165]\n",
      "\t [[{{node Placeholder/_0}}]]\n",
      "2023-06-25 13:37:33.928699: I tensorflow/core/common_runtime/executor.cc:1209] [/device:CPU:0] (DEBUG INFO) Executor start aborting (this does not indicate an error and you can ignore this message): INVALID_ARGUMENT: You must feed a value for placeholder tensor 'Placeholder/_0' with dtype string and shape [120165]\n",
      "\t [[{{node Placeholder/_0}}]]\n"
     ]
    }
   ],
   "source": [
    "ds = get_tfrec_dataset(ALL_FILENAMES,CFG)\n",
    "for x in ds:\n",
    "    temp_train = x\n",
    "    break\n",
    "inp,y_true = temp_train"
   ]
  },
  {
   "attachments": {},
   "cell_type": "markdown",
   "id": "bf397b47",
   "metadata": {},
   "source": [
    "#### Prepare model"
   ]
  },
  {
   "cell_type": "code",
   "execution_count": 11,
   "id": "6fe2bf2d",
   "metadata": {},
   "outputs": [],
   "source": [
    "# from signet.trainer.ctc_loss_trainer import train_model"
   ]
  },
  {
   "cell_type": "code",
   "execution_count": 12,
   "id": "43b0f386",
   "metadata": {},
   "outputs": [],
   "source": [
    "import tensorflow as tf\n",
    "from signet.models.feature_extractor import Cnn1dMhsaFeatureExtractor\n",
    "from signet.configs.Conv1D_LSTM_CTC_Loss import Conv1D_LSTM_CTC_Loss\n",
    "import numpy as np\n",
    "CFG = Conv1D_LSTM_CTC_Loss()"
   ]
  },
  {
   "cell_type": "code",
   "execution_count": 13,
   "id": "e312973a",
   "metadata": {},
   "outputs": [
    {
     "name": "stderr",
     "output_type": "stream",
     "text": [
      "2023-06-25 13:37:37.289077: I tensorflow/compiler/xla/stream_executor/cuda/cuda_blas.cc:655] TensorFloat-32 will be used for the matrix multiplication. This will only be logged once.\n",
      "2023-06-25 13:37:37.392476: I tensorflow/compiler/xla/stream_executor/cuda/cuda_dnn.cc:424] Loaded cuDNN version 8901\n"
     ]
    }
   ],
   "source": [
    "model = Cnn1dMhsaFeatureExtractor(CFG)\n",
    "y_pred = model(inp)"
   ]
  },
  {
   "cell_type": "code",
   "execution_count": 18,
   "id": "18e18d6a",
   "metadata": {},
   "outputs": [],
   "source": [
    "def ctc_decode(y_pred,blank_index=59,merge_repeated=True):\n",
    "    input_length = tf.cast(tf.shape(y_pred)[1], dtype=\"int32\")\n",
    "    batch_len = tf.cast(tf.shape(y_pred)[0], dtype=\"int32\")\n",
    "\n",
    "    inplen = input_length * tf.ones(shape=(batch_len,), dtype=\"int32\")\n",
    "    outs = tf.nn.ctc_greedy_decoder(tf.transpose(y_pred,(1,0,2)),inplen,blank_index=blank_index,merge_repeated=merge_repeated)\n",
    "    decoded = tf.sparse.to_dense(outs[0][0],default_value=-1)\n",
    "    for true_seq,pred_seq in zip(y_true.numpy(),decoded.numpy()):\n",
    "        true_seq = true_seq[true_seq!=-1]\n",
    "        pred_seq = pred_seq[pred_seq!=-1]\n",
    "        break"
   ]
  },
  {
   "cell_type": "code",
   "execution_count": 32,
   "id": "be0f0be6",
   "metadata": {},
   "outputs": [],
   "source": []
  },
  {
   "cell_type": "code",
   "execution_count": 35,
   "id": "1d582113",
   "metadata": {},
   "outputs": [
    {
     "data": {
      "text/plain": [
       "(array([52, 21, 52, 21, 52, 21, 52, 21, 52, 21, 52, 55, 52, 21, 52, 55, 52,\n",
       "        21, 52, 21, 52, 21, 52, 21, 52, 55, 52, 55, 52, 55, 21, 52, 21, 52,\n",
       "        21, 52, 21, 52, 21, 52, 21, 55, 21, 52, 21, 52, 55, 52, 21, 55, 21,\n",
       "        52, 55, 52, 21,  0, 21, 52, 25, 55,  0, 55, 25, 55, 52,  0, 52, 21,\n",
       "        52, 21, 52, 21, 52, 21, 52, 21, 55,  0, 21, 52, 21, 55,  0, 55, 21,\n",
       "        25, 21]),\n",
       " array([44, 40, 34, 49, 46, 50, 34, 46, 47, 36, 50,  0, 44, 32, 42, 36,  0,\n",
       "        50, 44, 32, 43, 43,  0, 51, 39, 40, 45, 38, 50,  0, 43, 46, 46, 42,\n",
       "         0, 33, 40, 38]))"
      ]
     },
     "execution_count": 35,
     "metadata": {},
     "output_type": "execute_result"
    }
   ],
   "source": []
  },
  {
   "cell_type": "code",
   "execution_count": 28,
   "id": "a44078a3",
   "metadata": {},
   "outputs": [
    {
     "data": {
      "text/plain": [
       "((64, 88), TensorShape([64, 45]))"
      ]
     },
     "execution_count": 28,
     "metadata": {},
     "output_type": "execute_result"
    }
   ],
   "source": [
    "ctc_decode(y_pred).numpy().shape,y_true.shape"
   ]
  },
  {
   "cell_type": "code",
   "execution_count": 30,
   "id": "63993947",
   "metadata": {},
   "outputs": [
    {
     "name": "stdout",
     "output_type": "stream",
     "text": [
      "WARNING:tensorflow:From /usr/local/lib/python3.10/dist-packages/tensorflow/python/ops/ctc_ops.py:1512: alias_inplace_add (from tensorflow.python.ops.inplace_ops) is deprecated and will be removed in a future version.\n",
      "Instructions for updating:\n",
      "Prefer tf.tensor_scatter_nd_add, which offers the same functionality with well-defined read-write semantics.\n",
      "WARNING:tensorflow:From /usr/local/lib/python3.10/dist-packages/tensorflow/python/ops/ctc_ops.py:1495: alias_inplace_update (from tensorflow.python.ops.inplace_ops) is deprecated and will be removed in a future version.\n",
      "Instructions for updating:\n",
      "Prefer tf.tensor_scatter_nd_update, which offers the same functionality with well-defined read-write semantics.\n"
     ]
    }
   ],
   "source": [
    "loss = tf.nn.ctc_loss(label,answer,lenout,leninp,blank_index=59,logits_time_major=False)"
   ]
  }
 ],
 "metadata": {
  "kernelspec": {
   "display_name": "Python 3",
   "language": "python",
   "name": "python3"
  },
  "language_info": {
   "codemirror_mode": {
    "name": "ipython",
    "version": 3
   },
   "file_extension": ".py",
   "mimetype": "text/x-python",
   "name": "python",
   "nbconvert_exporter": "python",
   "pygments_lexer": "ipython3",
   "version": "3.10.6"
  },
  "papermill": {
   "default_parameters": {},
   "duration": 2413.090372,
   "end_time": "2023-03-23T16:43:55.112208",
   "environment_variables": {},
   "exception": null,
   "input_path": "__notebook__.ipynb",
   "output_path": "__notebook__.ipynb",
   "parameters": {},
   "start_time": "2023-03-23T16:03:42.021836",
   "version": "2.4.0"
  }
 },
 "nbformat": 4,
 "nbformat_minor": 5
}
