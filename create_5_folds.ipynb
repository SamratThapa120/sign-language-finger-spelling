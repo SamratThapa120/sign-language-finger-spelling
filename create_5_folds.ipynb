{
 "cells": [
  {
   "cell_type": "code",
   "execution_count": 2,
   "id": "355c7541",
   "metadata": {},
   "outputs": [],
   "source": [
    "import os\n",
    "import glob\n",
    "import pandas as pd\n",
    "from argparse import ArgumentParser\n",
    "from sklearn.model_selection import GroupKFold"
   ]
  },
  {
   "cell_type": "code",
   "execution_count": 10,
   "id": "07b56707",
   "metadata": {},
   "outputs": [
    {
     "name": "stdout",
     "output_type": "stream",
     "text": [
      "120165\n"
     ]
    }
   ],
   "source": [
    "ALL_FILENAMES = glob.glob( '../dataset/npy_data/*.npy')\n",
    "train_df = pd.read_csv(\"../dataset/train.csv\")\n",
    "supp_df = pd.read_csv(\"../dataset/supplemental_metadata.csv\")\n",
    "\n",
    "print(len(ALL_FILENAMES))\n",
    "usable_names = set()\n",
    "for n in ALL_FILENAMES:\n",
    "    usable_names.add(os.path.split(n)[-1])\n",
    "gkf = GroupKFold(n_splits=5)"
   ]
  },
  {
   "cell_type": "code",
   "execution_count": 19,
   "id": "206ba87f",
   "metadata": {},
   "outputs": [],
   "source": [
    "valid_seqid = set()\n",
    "for fold_idx,(train, test) in enumerate(gkf.split(train_df.sequence_id, groups=train_df.participant_id)):\n",
    "    for idx in test:\n",
    "        valid_seqid.add(train_df.sequence_id[idx])\n",
    "    train_info = []\n",
    "    valid_info = []\n",
    "    for seqid,label in zip(train_df.sequence_id,train_df.phrase):\n",
    "        fname = f\"{seqid}.npy\"\n",
    "        if fname in usable_names and seqid not in valid_seqid:\n",
    "            train_info.append((fname,label))\n",
    "    for seqid,label in zip(supp_df.sequence_id,supp_df.phrase):\n",
    "        fname = f\"{seqid}.npy\"\n",
    "        if fname in usable_names:\n",
    "            train_info.append((fname,label))\n",
    "    train_info = pd.DataFrame(train_info,columns=[\"files\",\"labels\"])\n",
    "\n",
    "    for seqid,label in zip(train_df.sequence_id,train_df.phrase):\n",
    "        fname = f\"{seqid}.npy\"\n",
    "        if fname in usable_names and seqid in valid_seqid:\n",
    "            valid_info.append((fname,label))\n",
    "    valid_info = pd.DataFrame(valid_info,columns=[\"files\",\"labels\"])\n",
    "    train_info.to_csv(f\"../dataset/folds/fold{fold_idx}_train.csv\",index=False)\n",
    "    valid_info.to_csv(f\"../dataset/folds/fold{fold_idx}_valid.csv\",index=False)"
   ]
  }
 ],
 "metadata": {
  "kernelspec": {
   "display_name": "Python 3",
   "language": "python",
   "name": "python3"
  },
  "language_info": {
   "codemirror_mode": {
    "name": "ipython",
    "version": 3
   },
   "file_extension": ".py",
   "mimetype": "text/x-python",
   "name": "python",
   "nbconvert_exporter": "python",
   "pygments_lexer": "ipython3",
   "version": "3.8.10"
  },
  "papermill": {
   "default_parameters": {},
   "duration": 2413.090372,
   "end_time": "2023-03-23T16:43:55.112208",
   "environment_variables": {},
   "exception": null,
   "input_path": "__notebook__.ipynb",
   "output_path": "__notebook__.ipynb",
   "parameters": {},
   "start_time": "2023-03-23T16:03:42.021836",
   "version": "2.4.0"
  }
 },
 "nbformat": 4,
 "nbformat_minor": 5
}
