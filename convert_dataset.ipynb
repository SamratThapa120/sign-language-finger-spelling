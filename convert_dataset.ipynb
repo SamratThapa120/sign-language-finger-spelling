{
 "cells": [
  {
   "attachments": {},
   "cell_type": "markdown",
   "id": "19e1aaea",
   "metadata": {},
   "source": [
    "### Thanks to https://www.kaggle.com/code/hoyso48/islr-create-tfr"
   ]
  },
  {
   "cell_type": "code",
   "execution_count": 1,
   "id": "1f36bd9b",
   "metadata": {
    "_cell_guid": "b1076dfc-b9ad-4769-8c92-a6c4dae69d19",
    "_uuid": "8f2839f25d086af736a60e9eeb907d3b93b6e0e5",
    "execution": {
     "iopub.execute_input": "2023-03-23T16:03:52.514176Z",
     "iopub.status.busy": "2023-03-23T16:03:52.513519Z",
     "iopub.status.idle": "2023-03-23T16:04:02.623639Z",
     "shell.execute_reply": "2023-03-23T16:04:02.622353Z"
    },
    "papermill": {
     "duration": 10.121234,
     "end_time": "2023-03-23T16:04:02.626434",
     "exception": false,
     "start_time": "2023-03-23T16:03:52.505200",
     "status": "completed"
    },
    "tags": []
   },
   "outputs": [
    {
     "name": "stderr",
     "output_type": "stream",
     "text": [
      "2023-06-25 10:25:27.440327: I tensorflow/core/util/port.cc:110] oneDNN custom operations are on. You may see slightly different numerical results due to floating-point round-off errors from different computation orders. To turn them off, set the environment variable `TF_ENABLE_ONEDNN_OPTS=0`.\n",
      "2023-06-25 10:25:27.491439: I tensorflow/core/platform/cpu_feature_guard.cc:183] This TensorFlow binary is optimized to use available CPU instructions in performance-critical operations.\n",
      "To enable the following instructions: SSE3 SSE4.1 SSE4.2 AVX, in other operations, rebuild TensorFlow with the appropriate compiler flags.\n"
     ]
    },
    {
     "data": {
      "text/plain": [
       "40"
      ]
     },
     "execution_count": 1,
     "metadata": {},
     "output_type": "execute_result"
    }
   ],
   "source": [
    "import pandas as pd\n",
    "import os\n",
    "from tqdm import tqdm\n",
    "from joblib import Parallel, delayed\n",
    "import multiprocessing as mp\n",
    "from multiprocessing import cpu_count\n",
    "import tensorflow as tf\n",
    "import numpy as np\n",
    "import plotly.express as px\n",
    "cpu_count()"
   ]
  },
  {
   "cell_type": "code",
   "execution_count": 2,
   "id": "95a32b08",
   "metadata": {
    "execution": {
     "iopub.execute_input": "2023-03-23T16:04:02.640934Z",
     "iopub.status.busy": "2023-03-23T16:04:02.639513Z",
     "iopub.status.idle": "2023-03-23T16:04:02.866738Z",
     "shell.execute_reply": "2023-03-23T16:04:02.865603Z"
    },
    "papermill": {
     "duration": 0.237322,
     "end_time": "2023-03-23T16:04:02.869521",
     "exception": false,
     "start_time": "2023-03-23T16:04:02.632199",
     "status": "completed"
    },
    "tags": []
   },
   "outputs": [],
   "source": [
    "ROOT_DIR = \"../dataset\"\n",
    "supp_df = pd.read_csv(\"../dataset/supplemental_metadata.csv\")\n",
    "train_df = pd.read_csv(\"../dataset/train.csv\")"
   ]
  },
  {
   "cell_type": "code",
   "execution_count": 3,
   "id": "ca472eea",
   "metadata": {
    "execution": {
     "iopub.execute_input": "2023-03-23T16:04:02.883478Z",
     "iopub.status.busy": "2023-03-23T16:04:02.882184Z",
     "iopub.status.idle": "2023-03-23T16:04:03.065284Z",
     "shell.execute_reply": "2023-03-23T16:04:03.064364Z"
    },
    "papermill": {
     "duration": 0.192731,
     "end_time": "2023-03-23T16:04:03.067911",
     "exception": false,
     "start_time": "2023-03-23T16:04:02.875180",
     "status": "completed"
    },
    "tags": []
   },
   "outputs": [
    {
     "data": {
      "text/plain": [
       "array([468.,  21.,  33.,  21.])"
      ]
     },
     "execution_count": 3,
     "metadata": {},
     "output_type": "execute_result"
    }
   ],
   "source": [
    "example =pd.read_parquet('../dataset/train_landmarks/1019715464.parquet')\n",
    "classes,counts = np.unique([x.split(\"_\")[1] for x in example.columns[1:]],return_counts=True)\n",
    "counts/3"
   ]
  },
  {
   "cell_type": "code",
   "execution_count": 4,
   "id": "a5fd9dcd",
   "metadata": {},
   "outputs": [],
   "source": [
    "def sort_func(x):\n",
    "    p = x.split(\"_\")[-1]\n",
    "    return \"_\".join(x.split(\"_\")[1:-1])+ \"{:04d}\".format(int(p))"
   ]
  },
  {
   "cell_type": "code",
   "execution_count": 5,
   "id": "cfa9bf69",
   "metadata": {},
   "outputs": [],
   "source": [
    "COLUMNS_SEQUENCE=sorted(example.columns[1:],key=sort_func)"
   ]
  },
  {
   "cell_type": "code",
   "execution_count": 6,
   "id": "c462d701",
   "metadata": {},
   "outputs": [],
   "source": [
    "# old_example =pd.read_parquet('../dataset/old_comp_data.parquet')\n",
    "# newcols = {}\n",
    "# for x in COLUMNS_SEQUENCE:\n",
    "#     newcols[x[2:]] = 0\n",
    "# newcols = np.array(list(newcols.keys()))\n",
    "# oldone = old_example.type+\"_\"+old_example.landmark_index.apply(str)\n",
    "# for index in range(0,100):\n",
    "#     print((oldone[len(newcols)*index:len(newcols)*(index+1)]==newcols).mean())"
   ]
  },
  {
   "cell_type": "code",
   "execution_count": 12,
   "id": "2e298000",
   "metadata": {
    "execution": {
     "iopub.execute_input": "2023-03-23T16:04:03.156305Z",
     "iopub.status.busy": "2023-03-23T16:04:03.155886Z",
     "iopub.status.idle": "2023-03-23T16:04:03.162947Z",
     "shell.execute_reply": "2023-03-23T16:04:03.161634Z"
    },
    "papermill": {
     "duration": 0.01705,
     "end_time": "2023-03-23T16:04:03.165482",
     "exception": false,
     "start_time": "2023-03-23T16:04:03.148432",
     "status": "completed"
    },
    "tags": []
   },
   "outputs": [],
   "source": [
    "import numpy as np\n",
    "ROWS_PER_FRAME = 543\n",
    "def load_relevant_data_subset(pq_path):\n",
    "    example = pd.read_parquet(pq_path)\n",
    "    byseqid = {}\n",
    "    for seqid,row in example.iterrows():\n",
    "        if seqid not in byseqid:\n",
    "            byseqid[seqid] = []\n",
    "        byseqid[seqid].append(np.array(row[COLUMNS_SEQUENCE]))\n",
    "    for key in byseqid:\n",
    "        byseqid[key] = np.stack(byseqid[key]).astype(np.float32).reshape(-1,ROWS_PER_FRAME,3)\n",
    "        print(byseqid[key].shape)\n",
    "    return byseqid"
   ]
  },
  {
   "cell_type": "code",
   "execution_count": null,
   "id": "f47c342e",
   "metadata": {},
   "outputs": [],
   "source": [
    "ans.keys()"
   ]
  },
  {
   "cell_type": "code",
   "execution_count": 8,
   "id": "58e29516",
   "metadata": {
    "execution": {
     "iopub.execute_input": "2023-03-23T16:04:03.180683Z",
     "iopub.status.busy": "2023-03-23T16:04:03.179513Z",
     "iopub.status.idle": "2023-03-23T16:04:03.190986Z",
     "shell.execute_reply": "2023-03-23T16:04:03.189703Z"
    },
    "papermill": {
     "duration": 0.021964,
     "end_time": "2023-03-23T16:04:03.193737",
     "exception": false,
     "start_time": "2023-03-23T16:04:03.171773",
     "status": "completed"
    },
    "tags": []
   },
   "outputs": [],
   "source": [
    "import json\n",
    "with open('../dataset/character_to_prediction_index.json') as json_file:\n",
    "    LABEL_DICT = json.load(json_file)"
   ]
  },
  {
   "cell_type": "code",
   "execution_count": 9,
   "id": "affbc8d9",
   "metadata": {
    "execution": {
     "iopub.execute_input": "2023-03-23T16:04:03.207907Z",
     "iopub.status.busy": "2023-03-23T16:04:03.207481Z",
     "iopub.status.idle": "2023-03-23T16:04:03.218221Z",
     "shell.execute_reply": "2023-03-23T16:04:03.216930Z"
    },
    "papermill": {
     "duration": 0.020892,
     "end_time": "2023-03-23T16:04:03.220766",
     "exception": false,
     "start_time": "2023-03-23T16:04:03.199874",
     "status": "completed"
    },
    "tags": []
   },
   "outputs": [],
   "source": [
    "import glob\n",
    "def process_file(filename,seqid_label,LABEL_DICT):\n",
    "        print(\"Working on :\",filename)\n",
    "        print(\"Completed :\",len(glob.glob(\"../dataset/tdf_data/*\")))\n",
    "\n",
    "        record_bytes = load_relevant_data_subset(filename)\n",
    "        options = tf.io.TFRecordOptions(compression_type='GZIP', compression_level=9)\n",
    "        for seqid,coords in record_bytes.items(): \n",
    "            tfrecord_name = f\"../dataset/tdf_data/{seqid}.tfrecords\"\n",
    "            example = tf.train.Example(features=tf.train.Features(feature={\n",
    "                'coordinates': tf.train.Feature(bytes_list=tf.train.BytesList(value=[coords.tobytes()])),\n",
    "                'sequence_id':tf.train.Feature(int64_list=tf.train.Int64List(value=[seqid])),\n",
    "                'sign':tf.train.Feature(int64_list=tf.train.Int64List(value=[LABEL_DICT[t] for t in seqid_label[seqid]])),\n",
    "                'shape':tf.train.Feature(int64_list=tf.train.Int64List(value=list(coords.shape))),\n",
    "                })).SerializeToString()\n",
    "            with tf.io.TFRecordWriter(tfrecord_name, options=options) as file_writer:\n",
    "                file_writer.write(example)\n",
    "                file_writer.close()\n",
    "            del example"
   ]
  },
  {
   "cell_type": "code",
   "execution_count": 10,
   "id": "7d845c5f",
   "metadata": {},
   "outputs": [],
   "source": [
    "assert pd.concat([train_df,supp_df]).sequence_id.nunique() == len(train_df)+len(supp_df)"
   ]
  },
  {
   "cell_type": "code",
   "execution_count": 21,
   "id": "c2461fb1",
   "metadata": {},
   "outputs": [],
   "source": [
    "os.makedirs(\"../dataset/tdf_data\",exist_ok=True)"
   ]
  },
  {
   "cell_type": "code",
   "execution_count": 8,
   "id": "d87cdf98",
   "metadata": {},
   "outputs": [],
   "source": [
    "full_df = pd.concat([train_df,supp_df])"
   ]
  },
  {
   "cell_type": "code",
   "execution_count": 9,
   "id": "8d93608f",
   "metadata": {},
   "outputs": [
    {
     "data": {
      "text/plain": [
       "120166"
      ]
     },
     "execution_count": 9,
     "metadata": {},
     "output_type": "execute_result"
    }
   ],
   "source": [
    "seqid_to_label = {sid:phr for sid,phr in zip(full_df.sequence_id,full_df.phrase)}\n",
    "len(seqid_to_label)"
   ]
  },
  {
   "cell_type": "code",
   "execution_count": 24,
   "id": "e9f06e73",
   "metadata": {},
   "outputs": [],
   "source": [
    "def parse_example(example_proto):\n",
    "    print(example_proto)\n",
    "    # Define the features within the example\n",
    "    feature_description = {\n",
    "        'coordinates': tf.io.FixedLenFeature([], tf.string),\n",
    "        'sequence_id': tf.io.FixedLenFeature([], tf.int64),\n",
    "        'sign': tf.io.VarLenFeature(tf.int64),\n",
    "        'shape': tf.io.VarLenFeature(tf.int64),\n",
    "\n",
    "    }\n",
    "\n",
    "    # Parse the input tf.Example proto using the dictionary above.\n",
    "    parsed_example = tf.io.parse_single_example(example_proto, feature_description)\n",
    "    shape = tf.sparse.to_dense(parsed_example['shape'])\n",
    "\n",
    "    # Decode the coordinates\n",
    "    coordinates = tf.reshape(tf.io.decode_raw(parsed_example['coordinates'], tf.float32), shape)\n",
    "\n",
    "    # The 'sign' feature is a variable length feature, we have to convert it from sparse to dense\n",
    "    sign = tf.sparse.to_dense(parsed_example['sign'])\n",
    "    print(shape)\n",
    "    \n",
    "    return coordinates, parsed_example['sequence_id'], sign\n",
    "\n",
    "def process_tfrecord_file(tfrecord_name):\n",
    "    # Load the data from the TFRecord file\n",
    "    raw_dataset = tf.data.TFRecordDataset(tfrecord_name, compression_type='GZIP')\n",
    "\n",
    "    # Parse the data\n",
    "    parsed_dataset = raw_dataset.map(parse_example)\n",
    "    \n",
    "    for coordinates, seqid, sign in parsed_dataset:\n",
    "        # process data here\n",
    "\n",
    "        # Note: To convert tensors back to numpy use `.numpy()`\n",
    "        # e.g., `numpy_seqid = seqid.numpy()`\n",
    "        print(f\"Coordinates: {coordinates.shape}\")\n",
    "        print(f\"Seqid: {seqid}\")\n",
    "        print(f\"Sign: {sign}\")\n",
    "    return parsed_dataset"
   ]
  },
  {
   "cell_type": "code",
   "execution_count": null,
   "id": "db4df2fd",
   "metadata": {
    "execution": {
     "iopub.execute_input": "2023-03-23T16:04:15.192582Z",
     "iopub.status.busy": "2023-03-23T16:04:15.192116Z",
     "iopub.status.idle": "2023-03-23T16:21:37.656209Z",
     "shell.execute_reply": "2023-03-23T16:21:37.654145Z"
    },
    "papermill": {
     "duration": 1042.476283,
     "end_time": "2023-03-23T16:21:37.659348",
     "exception": false,
     "start_time": "2023-03-23T16:04:15.183065",
     "status": "completed"
    },
    "tags": []
   },
   "outputs": [],
   "source": [
    "_ = Parallel(n_jobs=12)(\n",
    "    delayed(process_file)(os.path.join(\"../dataset\",pth),seqid_to_label,LABEL_DICT)\n",
    "    for pth in full_df.path.unique())"
   ]
  },
  {
   "cell_type": "code",
   "execution_count": 25,
   "id": "6d0fe852",
   "metadata": {},
   "outputs": [
    {
     "name": "stdout",
     "output_type": "stream",
     "text": [
      "Tensor(\"args_0:0\", shape=(), dtype=string)\n",
      "Tensor(\"SparseToDense:0\", shape=(None,), dtype=int64)\n",
      "Coordinates: (127, 543, 3)\n",
      "Seqid: 1975433633\n",
      "Sign: [10 24 20 12 18 18 20 12 18 24 20]\n"
     ]
    }
   ],
   "source": [
    "tfrecord_name = \"/app/ThesisProject/dataset/tdf_data/1975433633.tfrecords\" # use your tfrecord file path here\n",
    "z = process_tfrecord_file(tfrecord_name)"
   ]
  },
  {
   "cell_type": "code",
   "execution_count": 29,
   "id": "52600db3",
   "metadata": {},
   "outputs": [],
   "source": [
    "for coordinates, seqid, sign in z:\n",
    "    break"
   ]
  }
 ],
 "metadata": {
  "kernelspec": {
   "display_name": "Python 3",
   "language": "python",
   "name": "python3"
  },
  "language_info": {
   "codemirror_mode": {
    "name": "ipython",
    "version": 3
   },
   "file_extension": ".py",
   "mimetype": "text/x-python",
   "name": "python",
   "nbconvert_exporter": "python",
   "pygments_lexer": "ipython3",
   "version": "3.10.6"
  },
  "papermill": {
   "default_parameters": {},
   "duration": 2413.090372,
   "end_time": "2023-03-23T16:43:55.112208",
   "environment_variables": {},
   "exception": null,
   "input_path": "__notebook__.ipynb",
   "output_path": "__notebook__.ipynb",
   "parameters": {},
   "start_time": "2023-03-23T16:03:42.021836",
   "version": "2.4.0"
  }
 },
 "nbformat": 4,
 "nbformat_minor": 5
}
