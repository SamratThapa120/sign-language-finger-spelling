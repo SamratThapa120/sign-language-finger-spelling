{
 "cells": [
  {
   "cell_type": "code",
   "execution_count": 2,
   "id": "a64f61b7",
   "metadata": {},
   "outputs": [],
   "source": [
    "import os\n",
    "import glob\n",
    "import pandas as pd\n",
    "from argparse import ArgumentParser\n",
    "import numpy as np\n",
    "from tqdm import tqdm\n",
    "from sklearn.model_selection import GroupKFold"
   ]
  },
  {
   "cell_type": "code",
   "execution_count": 4,
   "id": "2f655b26",
   "metadata": {},
   "outputs": [],
   "source": [
    "from signet.dataset.preprocess import Preprocess"
   ]
  },
  {
   "cell_type": "code",
   "execution_count": null,
   "id": "3b1c5c19",
   "metadata": {},
   "outputs": [],
   "source": [
    "pprocess"
   ]
  },
  {
   "cell_type": "code",
   "execution_count": 3,
   "id": "b0bb8a0d",
   "metadata": {},
   "outputs": [],
   "source": [
    "ALL_FILENAMES = glob.glob( '../dataset/npy_data/*.npy')\n",
    "train_df = pd.read_csv(\"../dataset/train.csv\")\n",
    "supp_df = pd.read_csv(\"../dataset/supplemental_metadata.csv\")"
   ]
  },
  {
   "cell_type": "code",
   "execution_count": null,
   "id": "6b09bc6d",
   "metadata": {},
   "outputs": [],
   "source": []
  },
  {
   "cell_type": "code",
   "execution_count": null,
   "id": "33b8203f",
   "metadata": {},
   "outputs": [],
   "source": [
    "seq_length = {}\n",
    "for fpth in tqdm(ALL_FILENAMES):\n",
    "    seq_length[os.path.split(fpth)[-1].split(\".\")[0]] = len(np.load(fpth))"
   ]
  }
 ],
 "metadata": {
  "kernelspec": {
   "display_name": "Python 3",
   "language": "python",
   "name": "python3"
  },
  "language_info": {
   "codemirror_mode": {
    "name": "ipython",
    "version": 3
   },
   "file_extension": ".py",
   "mimetype": "text/x-python",
   "name": "python",
   "nbconvert_exporter": "python",
   "pygments_lexer": "ipython3",
   "version": "3.8.10"
  },
  "papermill": {
   "default_parameters": {},
   "duration": 2413.090372,
   "end_time": "2023-03-23T16:43:55.112208",
   "environment_variables": {},
   "exception": null,
   "input_path": "__notebook__.ipynb",
   "output_path": "__notebook__.ipynb",
   "parameters": {},
   "start_time": "2023-03-23T16:03:42.021836",
   "version": "2.4.0"
  }
 },
 "nbformat": 4,
 "nbformat_minor": 5
}
