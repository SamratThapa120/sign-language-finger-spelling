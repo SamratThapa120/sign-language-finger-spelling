{
 "cells": [
  {
   "cell_type": "code",
   "execution_count": 1,
   "id": "54c11679",
   "metadata": {},
   "outputs": [
    {
     "name": "stderr",
     "output_type": "stream",
     "text": [
      "2023-08-21 10:08:27.043387: I tensorflow/core/platform/cpu_feature_guard.cc:183] This TensorFlow binary is optimized to use available CPU instructions in performance-critical operations.\n",
      "To enable the following instructions: SSE3 SSE4.1 SSE4.2 AVX, in other operations, rebuild TensorFlow with the appropriate compiler flags.\n"
     ]
    }
   ],
   "source": [
    "from signet.trainer.tf_utils.schedules import OneCycleLR\n",
    "from signet.configs.Conv1D_LSTM_CTC_Loss_tuned_large import Conv1D_LSTM_CTC_Loss\n",
    "import os\n",
    "from tqdm import tqdm\n",
    "import glob\n",
    "import numpy as np\n",
    "import pandas as pd\n",
    "import json\n",
    "import tensorflow as tf"
   ]
  },
  {
   "cell_type": "code",
   "execution_count": 2,
   "id": "ce63dce1",
   "metadata": {},
   "outputs": [],
   "source": [
    "os.environ[\"CUDA_VISIBLE_DEVICES\"] = \"\""
   ]
  },
  {
   "cell_type": "code",
   "execution_count": 18,
   "id": "32aaecd3",
   "metadata": {},
   "outputs": [
    {
     "data": {
      "text/plain": [
       "TensorShape([10, 2])"
      ]
     },
     "execution_count": 18,
     "metadata": {},
     "output_type": "execute_result"
    }
   ],
   "source": [
    "label_mask = tf.sequence_mask(2, 10, dtype=tf.int64)\n",
    "feature_mask = tf.sequence_mask(5, 10, dtype=tf.int64)\n",
    "tf.stack([label_mask, feature_mask], axis=-1).shape"
   ]
  },
  {
   "cell_type": "code",
   "execution_count": 11,
   "id": "59c8a9f0",
   "metadata": {},
   "outputs": [
    {
     "data": {
      "text/plain": [
       "<tf.Tensor: shape=(1,), dtype=int32, numpy=array([2], dtype=int32)>"
      ]
     },
     "execution_count": 11,
     "metadata": {},
     "output_type": "execute_result"
    }
   ],
   "source": [
    "tensor1 = tf.expand_dims(tf.shape(x)[0], 0)\n",
    "tensor2 = tf.expand_dims(tf.shape(x)[0], 0)\n",
    "\n",
    "tensor1"
   ]
  },
  {
   "cell_type": "code",
   "execution_count": 10,
   "id": "cfaef8c0",
   "metadata": {},
   "outputs": [],
   "source": [
    "import tensorflow as tf\n",
    "from tensorflow.keras.layers import Dense, Conv1D, MaxPool1D, Flatten, Reshape\n",
    "from tensorflow.keras import Model\n"
   ]
  },
  {
   "cell_type": "code",
   "execution_count": 102,
   "id": "94e5faa3",
   "metadata": {},
   "outputs": [],
   "source": [
    "class PointNetLayer(tf.keras.Model):\n",
    "    def __init__(self, points_num, feature_dim):\n",
    "        super(PointNetLayer, self).__init__()\n",
    "\n",
    "        self.points_num = points_num\n",
    "\n",
    "        self.conv1 = tf.keras.layers.Conv1D(64, 1, activation='relu')\n",
    "        self.conv2 = tf.keras.layers.Conv1D(128, 1, activation='relu')\n",
    "        self.conv3 = tf.keras.layers.Conv1D(1024, 1, activation='relu')\n",
    "        # self.maxpool = tf.keras.layers.MaxPool1D(points_num)\n",
    "        self.dense1 = tf.keras.layers.Dense(feature_dim, activation='relu')\n",
    "        # self.dense2 = tf.keras.layers.Dense(256, activation='relu')\n",
    "        # self.dense3 = tf.keras.layers.Dense(feature_dim, activation='relu')\n",
    "        \n",
    "    def call(self, x):\n",
    "        batch_size = tf.shape(x)[0]\n",
    "        frames = tf.shape(x)[1]\n",
    "\n",
    "        # Reshape the input tensor to have 3 coordinates for each point\n",
    "        # x = tf.reshape(x, [batch_size, frames * self.points_num, 3])\n",
    "\n",
    "        # Apply convolutions and max pooling\n",
    "        net = self.conv1(x)\n",
    "        net = self.conv2(net)\n",
    "        net = self.conv3(net)\n",
    "        net = tf.reshape(net, [batch_size, frames,self.points_num,1024])\n",
    "        net = tf.reduce_max(net, axis=2)\n",
    "\n",
    "        # Reshape to separate frames dimension\n",
    "\n",
    "        # Apply dense layers\n",
    "        net = self.dense1(net)\n",
    "        # net = self.dense2(net)\n",
    "        # net = self.dense3(net)\n",
    "\n",
    "        return net"
   ]
  },
  {
   "cell_type": "code",
   "execution_count": 103,
   "id": "94d30a0b",
   "metadata": {},
   "outputs": [],
   "source": [
    "layer = PointNetLayer(100,512)"
   ]
  },
  {
   "cell_type": "code",
   "execution_count": 105,
   "id": "0147c140",
   "metadata": {},
   "outputs": [
    {
     "data": {
      "text/plain": [
       "TensorShape([1, 10, 512])"
      ]
     },
     "execution_count": 105,
     "metadata": {},
     "output_type": "execute_result"
    }
   ],
   "source": [
    "layer(tf.random.uniform((1,10,100,6))).shape"
   ]
  },
  {
   "cell_type": "code",
   "execution_count": 96,
   "id": "24e70201",
   "metadata": {},
   "outputs": [
    {
     "data": {
      "text/plain": [
       "<tf.Tensor: shape=(1, 2, 6), dtype=float32, numpy=\n",
       "array([[[ 0.,  1.,  2.,  3.,  4.,  5.],\n",
       "        [ 6.,  7.,  8.,  9., 10., 11.]]], dtype=float32)>"
      ]
     },
     "execution_count": 96,
     "metadata": {},
     "output_type": "execute_result"
    }
   ],
   "source": [
    "layer(input_tensor,training=True)"
   ]
  },
  {
   "cell_type": "code",
   "execution_count": 3,
   "id": "574f82ea",
   "metadata": {},
   "outputs": [],
   "source": [
    "train_df = pd.read_csv(\"../dataset/train.csv\")\n",
    "supp_df = pd.read_csv(\"../dataset/supplemental_metadata.csv\")\n",
    "combined = pd.concat([train_df,supp_df])"
   ]
  },
  {
   "cell_type": "code",
   "execution_count": 4,
   "id": "6bdc75f0",
   "metadata": {},
   "outputs": [],
   "source": [
    "seqid_to_pid = {}\n",
    "for seqid,pid in zip(combined.sequence_id,combined.participant_id):\n",
    "    seqid_to_pid[f\"{seqid}.npy\"] = pid "
   ]
  },
  {
   "cell_type": "code",
   "execution_count": 5,
   "id": "aaa1702e",
   "metadata": {},
   "outputs": [],
   "source": [
    "data_root=\"../dataset/tdf_data\"\n",
    "train_df = pd.read_csv(\"../dataset/folds/fold3_train.csv\")\n",
    "valid_df = pd.read_csv(\"../dataset/folds/fold3_valid.csv\")\n",
    "\n",
    "# train_df[\"pid\"] = train_df.files.apply(lambda x: seqid_to_pid[x])\n",
    "# valid_df[\"pid\"] = valid_df.files.apply(lambda x: seqid_to_pid[x])\n",
    "\n",
    "# train_labels = set(train_df['pid'].unique())\n",
    "# valid_labels = set(valid_df['pid'].unique())\n",
    "# common_labels = train_labels.intersection(valid_labels)\n",
    "\n",
    "# common_mask = valid_df['pid'].isin(common_labels)\n",
    "\n",
    "# # train_labels = set(train_df['labels'].unique())\n",
    "# # valid_labels = set(valid_df['labels'].unique())\n",
    "# # common_labels = train_labels.intersection(valid_labels)\n",
    "\n",
    "# # common_mask2 = valid_df['labels'].isin(common_labels)\n",
    "\n",
    "# # valid_df = valid_df[~(common_mask|common_mask2)]\n",
    "# valid_df = valid_df[~(common_mask)]\n",
    "\n",
    "# train_files = train_df.files.apply(lambda x: os.path.join(data_root,x.replace(\".npy\",\".tfrecords\")))\n",
    "valid_files = valid_df.files.apply(lambda x: os.path.join(data_root,x.replace(\".npy\",\".tfrecords\")))"
   ]
  },
  {
   "cell_type": "code",
   "execution_count": 6,
   "id": "a2469282",
   "metadata": {},
   "outputs": [
    {
     "data": {
      "text/plain": [
       "13004"
      ]
     },
     "execution_count": 6,
     "metadata": {},
     "output_type": "execute_result"
    }
   ],
   "source": [
    "len(valid_df)"
   ]
  },
  {
   "cell_type": "code",
   "execution_count": 7,
   "id": "55ddcd57",
   "metadata": {},
   "outputs": [
    {
     "data": {
      "text/plain": [
       "13004"
      ]
     },
     "execution_count": 7,
     "metadata": {},
     "output_type": "execute_result"
    }
   ],
   "source": [
    "len(valid_files)"
   ]
  },
  {
   "cell_type": "code",
   "execution_count": 8,
   "id": "cea9274e",
   "metadata": {},
   "outputs": [],
   "source": [
    "import sys\n",
    "# sys.path.append(\"/app/runs/ctc_with_frozenframes/fold3\")"
   ]
  },
  {
   "cell_type": "code",
   "execution_count": 9,
   "id": "bc5a23e5",
   "metadata": {},
   "outputs": [],
   "source": [
    "from signet.configs.CTC_LOSS_kaggle_copy import ctc_loss_encdec_params\n",
    "from signet.configs.Conv1D_LSTM_CTC_Loss_tuned_large import Conv1D_LSTM_CTC_Loss\n",
    "\n",
    "from signet.configs.Encoder_Decoder_Base import EncoderDecoderBase\n",
    "from signet.dataset.utils import get_ctc_dataset,get_centropy_dataset\n",
    "from signet.models.feature_extractor import Cnn1dMhsaFeatureExtractor\n",
    "from signet.models.encoder_decoder import EncoderDecoder"
   ]
  },
  {
   "cell_type": "code",
   "execution_count": 10,
   "id": "34dd62db",
   "metadata": {},
   "outputs": [],
   "source": [
    "CFG = ctc_loss_encdec_params()\n",
    "# CFG = EncoderDecoderBase()"
   ]
  },
  {
   "cell_type": "code",
   "execution_count": 11,
   "id": "a4c2cd41",
   "metadata": {},
   "outputs": [],
   "source": [
    "CFG.batch_size=128\n",
    "CFG.max_len=384"
   ]
  },
  {
   "cell_type": "code",
   "execution_count": 12,
   "id": "82ae6806",
   "metadata": {},
   "outputs": [
    {
     "name": "stderr",
     "output_type": "stream",
     "text": [
      "2023-07-23 10:07:34.187459: I tensorflow/core/common_runtime/gpu/gpu_device.cc:1638] Created device /job:localhost/replica:0/task:0/device:GPU:0 with 21461 MB memory:  -> device: 0, name: Quadro RTX 6000, pci bus id: 0000:5e:00.0, compute capability: 7.5\n",
      "2023-07-23 10:07:35.504197: I tensorflow/core/common_runtime/executor.cc:1209] [/device:CPU:0] (DEBUG INFO) Executor start aborting (this does not indicate an error and you can ignore this message): INVALID_ARGUMENT: You must feed a value for placeholder tensor 'args_0' with dtype float\n",
      "\t [[{{node args_0}}]]\n"
     ]
    }
   ],
   "source": [
    "dset = get_ctc_dataset(valid_files,CFG,shuffle=False,repeat=False,augment=False)\n",
    "# dset = get_centropy_dataset(valid_files,CFG,shuffle=False,repeat=False,augment=False)"
   ]
  },
  {
   "cell_type": "code",
   "execution_count": 13,
   "id": "8da48ef8",
   "metadata": {},
   "outputs": [],
   "source": [
    "model = Cnn1dMhsaFeatureExtractor(CFG)\n",
    "model.load_weights(\"/app/runs/ctc_kaggle_copy/fold3/best_ckpt.h5\")\n",
    "\n",
    "# model = EncoderDecoder(CFG)\n",
    "# model.load_weights(\"/app/runs/encoder_decoder_base/large_allfold/best_ckpt.h5\")"
   ]
  },
  {
   "cell_type": "code",
   "execution_count": 14,
   "id": "948b4d89",
   "metadata": {},
   "outputs": [],
   "source": [
    "from signet.losses.metrics import normalized_levenshtein_distance,word_accuracy\n",
    "from signet.trainer.utils import ctc_decode"
   ]
  },
  {
   "cell_type": "code",
   "execution_count": 15,
   "id": "dc49eac1",
   "metadata": {},
   "outputs": [
    {
     "name": "stderr",
     "output_type": "stream",
     "text": [
      "2023-07-23 10:07:46.016325: I tensorflow/core/common_runtime/executor.cc:1209] [/device:CPU:0] (DEBUG INFO) Executor start aborting (this does not indicate an error and you can ignore this message): INVALID_ARGUMENT: You must feed a value for placeholder tensor 'Placeholder/_0' with dtype string and shape [13004]\n",
      "\t [[{{node Placeholder/_0}}]]\n",
      "2023-07-23 10:07:46.016951: I tensorflow/core/common_runtime/executor.cc:1209] [/device:CPU:0] (DEBUG INFO) Executor start aborting (this does not indicate an error and you can ignore this message): INVALID_ARGUMENT: You must feed a value for placeholder tensor 'Placeholder/_0' with dtype string and shape [13004]\n",
      "\t [[{{node Placeholder/_0}}]]\n",
      "2023-07-23 10:07:48.466399: I tensorflow/compiler/xla/stream_executor/cuda/cuda_dnn.cc:424] Loaded cuDNN version 8901\n"
     ]
    },
    {
     "name": "stdout",
     "output_type": "stream",
     "text": [
      "101/101 [==============================] - 27s 241ms/step\n"
     ]
    },
    {
     "name": "stderr",
     "output_type": "stream",
     "text": [
      "2023-07-23 10:08:14.998638: I tensorflow/core/common_runtime/executor.cc:1209] [/device:CPU:0] (DEBUG INFO) Executor start aborting (this does not indicate an error and you can ignore this message): INVALID_ARGUMENT: You must feed a value for placeholder tensor 'Placeholder/_0' with dtype string and shape [13004]\n",
      "\t [[{{node Placeholder/_0}}]]\n",
      "2023-07-23 10:08:14.999009: I tensorflow/core/common_runtime/executor.cc:1209] [/device:CPU:0] (DEBUG INFO) Executor start aborting (this does not indicate an error and you can ignore this message): INVALID_ARGUMENT: You must feed a value for placeholder tensor 'Placeholder/_0' with dtype string and shape [13004]\n",
      "\t [[{{node Placeholder/_0}}]]\n"
     ]
    }
   ],
   "source": [
    "y_preds = model.predict(dset,steps = len(valid_files)//CFG.batch_size)\n",
    "y_trues = [label for _, label in dset.unbatch().as_numpy_iterator()]\n",
    "\n",
    "predictions = []\n",
    "targets = []\n",
    "for true_seq,y_pred in zip(y_trues,y_preds):\n",
    "    pred_seq = ctc_decode(y_pred,CFG.blank_index,CFG.merge_repeated).numpy()\n",
    "    true_seq = \"\".join([CFG.idx_to_char[i] for i in true_seq[true_seq!=-1]])\n",
    "    pred_seq = \"\".join([CFG.idx_to_char[i] for i in pred_seq[pred_seq!=-1]])\n",
    "    predictions.append(pred_seq)\n",
    "    targets.append(true_seq)\n",
    "nld =  normalized_levenshtein_distance(targets,predictions)"
   ]
  },
  {
   "cell_type": "code",
   "execution_count": 13,
   "id": "6787eab7",
   "metadata": {},
   "outputs": [],
   "source": [
    "import Levenshtein as lev\n",
    "import plotly.express as px"
   ]
  },
  {
   "cell_type": "code",
   "execution_count": 14,
   "id": "643f0860",
   "metadata": {},
   "outputs": [],
   "source": [
    "targets = np.array(targets)\n",
    "predictions = np.array(predictions)"
   ]
  },
  {
   "cell_type": "code",
   "execution_count": 24,
   "id": "4e7cb2d9",
   "metadata": {},
   "outputs": [],
   "source": [
    "scores = np.array([lev.distance(p,t)/len(t) for t, p in zip(targets, predictions)])"
   ]
  },
  {
   "cell_type": "code",
   "execution_count": 25,
   "id": "ff4df940",
   "metadata": {},
   "outputs": [
    {
     "data": {
      "text/plain": [
       "0.4165386533981755"
      ]
     },
     "execution_count": 25,
     "metadata": {},
     "output_type": "execute_result"
    }
   ],
   "source": [
    "np.mean(scores)"
   ]
  },
  {
   "cell_type": "code",
   "execution_count": 17,
   "id": "cb80d02f",
   "metadata": {},
   "outputs": [
    {
     "data": {
      "text/plain": [
       "(0.33224484702260865, 4160, 0.0)"
      ]
     },
     "execution_count": 17,
     "metadata": {},
     "output_type": "execute_result"
    }
   ],
   "source": [
    "idx=10\n",
    "normalized_levenshtein_distance(targets[scores>idx],predictions[scores>idx]),(scores>idx).sum(),(targets[scores>idx]==predictions[scores>idx]).mean()"
   ]
  },
  {
   "cell_type": "code",
   "execution_count": 36,
   "id": "8ba9313c",
   "metadata": {},
   "outputs": [
    {
     "data": {
      "text/plain": [
       "(0.875, 1183, 976)"
      ]
     },
     "execution_count": 36,
     "metadata": {},
     "output_type": "execute_result"
    }
   ],
   "source": [
    "df = pd.read_csv(\"../dataset/folds/fold3_valid_difficult10.csv\")\n",
    "len(np.intersect1d(df.files,valid_df.files[scores>idx]))/len(df),(scores>idx).sum(),len(df)"
   ]
  },
  {
   "attachments": {},
   "cell_type": "markdown",
   "id": "9adb8e93",
   "metadata": {},
   "source": [
    "# Error analysis"
   ]
  },
  {
   "cell_type": "code",
   "execution_count": 7,
   "id": "874a934b",
   "metadata": {},
   "outputs": [],
   "source": [
    "import pandas as pd\n",
    "import Levenshtein as lev"
   ]
  },
  {
   "cell_type": "code",
   "execution_count": 18,
   "id": "82d53537",
   "metadata": {},
   "outputs": [],
   "source": [
    "PREDICTION_FILE = \"/app/runs/ctc_with_frozenframes/fold3/weights/epoch-49-examples.txt\"\n",
    "info = []\n",
    "with open(PREDICTION_FILE) as f:\n",
    "    for line in f.readlines():\n",
    "        info.append(line.strip().split(\"\\t\\t\"))\n",
    "df = pd.DataFrame(info,columns=[\"true\",\"pred\"]).dropna()"
   ]
  },
  {
   "cell_type": "code",
   "execution_count": 23,
   "id": "8d227cf2",
   "metadata": {},
   "outputs": [],
   "source": [
    "# Function to apply on every row\n",
    "def calculate_changes(row):\n",
    "    true_str = row['true']\n",
    "    pred_str = row['pred']\n",
    "    changes = lev.editops( pred_str,true_str)\n",
    "    return changes\n",
    "\n",
    "# Creating the new column\n",
    "df['changes'] = df.apply(calculate_changes, axis=1)"
   ]
  },
  {
   "cell_type": "code",
   "execution_count": 33,
   "id": "3b5aad21",
   "metadata": {},
   "outputs": [],
   "source": [
    "train_df = pd.read_csv(\"../dataset/train.csv\")\n",
    "supp_df = pd.read_csv(\"../dataset/supplemental_metadata.csv\")"
   ]
  },
  {
   "cell_type": "code",
   "execution_count": 64,
   "id": "4fbc1325",
   "metadata": {},
   "outputs": [],
   "source": [
    "allc = {}\n",
    "for k in train_df[\"phrase\"]:\n",
    "    if \"/\" in k:\n",
    "        break\n",
    "    for g in k:\n",
    "        if g not in allc:\n",
    "            allc[g]=0\n",
    "        allc[g]+=1"
   ]
  },
  {
   "cell_type": "code",
   "execution_count": 68,
   "id": "28e86f35",
   "metadata": {},
   "outputs": [],
   "source": [
    "\n",
    "# Extract all replaced characters\n",
    "insert_chars = {c:0 for c in CFG.char_to_idx}\n",
    "insert_chars['\\\\']=0\n",
    "insert_chars['/']=0\n",
    "for t,p,change_list in zip(df[\"true\"],df[\"pred\"],df['changes']):\n",
    "    for change in change_list:\n",
    "        if change[0] == 'insert':\n",
    "            insert_chars[t[change[2]]]+=1\n",
    "\n",
    "# Calculate character frequencies\n"
   ]
  },
  {
   "cell_type": "code",
   "execution_count": 69,
   "id": "8276f280",
   "metadata": {},
   "outputs": [
    {
     "data": {
      "text/plain": [
       "{' ': 288,\n",
       " '!': 0,\n",
       " '#': 0,\n",
       " '$': 0,\n",
       " '%': 0,\n",
       " '&': 0,\n",
       " \"'\": 0,\n",
       " '(': 0,\n",
       " ')': 0,\n",
       " '*': 0,\n",
       " '+': 23,\n",
       " ',': 0,\n",
       " '-': 131,\n",
       " '.': 97,\n",
       " '\\\\/': 0,\n",
       " '0': 88,\n",
       " '1': 114,\n",
       " '2': 104,\n",
       " '3': 112,\n",
       " '4': 99,\n",
       " '5': 104,\n",
       " '6': 88,\n",
       " '7': 93,\n",
       " '8': 94,\n",
       " '9': 88,\n",
       " ':': 9,\n",
       " ';': 0,\n",
       " '=': 5,\n",
       " '?': 4,\n",
       " '@': 1,\n",
       " '[': 0,\n",
       " '_': 6,\n",
       " 'a': 287,\n",
       " 'b': 40,\n",
       " 'c': 127,\n",
       " 'd': 114,\n",
       " 'e': 244,\n",
       " 'f': 27,\n",
       " 'g': 59,\n",
       " 'h': 75,\n",
       " 'i': 142,\n",
       " 'j': 17,\n",
       " 'k': 55,\n",
       " 'l': 188,\n",
       " 'm': 88,\n",
       " 'n': 208,\n",
       " 'o': 186,\n",
       " 'p': 90,\n",
       " 'q': 9,\n",
       " 'r': 205,\n",
       " 's': 132,\n",
       " 't': 229,\n",
       " 'u': 111,\n",
       " 'v': 30,\n",
       " 'w': 83,\n",
       " 'x': 6,\n",
       " 'y': 40,\n",
       " 'z': 17,\n",
       " '~': 0,\n",
       " '\\\\': 90,\n",
       " '/': 78}"
      ]
     },
     "execution_count": 69,
     "metadata": {},
     "output_type": "execute_result"
    }
   ],
   "source": [
    "insert_chars"
   ]
  }
 ],
 "metadata": {
  "kernelspec": {
   "display_name": "Python 3",
   "language": "python",
   "name": "python3"
  },
  "language_info": {
   "codemirror_mode": {
    "name": "ipython",
    "version": 3
   },
   "file_extension": ".py",
   "mimetype": "text/x-python",
   "name": "python",
   "nbconvert_exporter": "python",
   "pygments_lexer": "ipython3",
   "version": "3.8.10"
  },
  "papermill": {
   "default_parameters": {},
   "duration": 2413.090372,
   "end_time": "2023-03-23T16:43:55.112208",
   "environment_variables": {},
   "exception": null,
   "input_path": "__notebook__.ipynb",
   "output_path": "__notebook__.ipynb",
   "parameters": {},
   "start_time": "2023-03-23T16:03:42.021836",
   "version": "2.4.0"
  }
 },
 "nbformat": 4,
 "nbformat_minor": 5
}
